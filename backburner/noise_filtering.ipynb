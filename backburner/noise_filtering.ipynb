{
 "cells": [
  {
   "cell_type": "code",
   "execution_count": null,
   "metadata": {},
   "outputs": [],
   "source": [
    "import numpy as np\n",
    "import matplotlib.pyplot as plt\n",
    "from medpy.filter.smoothing import anisotropic_diffusion\n"
   ]
  },
  {
   "cell_type": "code",
   "execution_count": null,
   "metadata": {},
   "outputs": [],
   "source": [
    "intensities = np.load('/Users/cadenmyers/billingelab/dev/skyrmion_lattices/experimental_data/npz_field_sweep_old/Field_29mT.npz')['data']\n",
    "print(intensities.shape)\n",
    "image = intensities[0]"
   ]
  },
  {
   "cell_type": "code",
   "execution_count": null,
   "metadata": {},
   "outputs": [],
   "source": [
    "def normalize_min_max(array):\n",
    "    array_min = np.min(array)\n",
    "    array_max = np.max(array)\n",
    "    return (array - array_min) / (array_max - array_min)"
   ]
  },
  {
   "cell_type": "markdown",
   "metadata": {},
   "source": [
    "### FFT filtering"
   ]
  },
  {
   "cell_type": "code",
   "execution_count": null,
   "metadata": {},
   "outputs": [],
   "source": [
    "\n",
    "fft_image = np.fft.fft2(image)\n",
    "fft_shifted = np.fft.fftshift(fft_image)\n",
    "\n",
    "magnitude_spectrum = np.log(np.abs(fft_shifted))\n",
    "\n",
    "# create filter in freq space\n",
    "rows, cols = image.shape\n",
    "crow, ccol = rows // 2, cols // 2 # center\n",
    "\n",
    "mask = np.zeros((rows, cols), np.uint8)\n",
    "r = 20\n",
    "center = [crow, ccol]\n",
    "for i in range(rows):\n",
    "    for j in range(cols):\n",
    "        if np.sqrt((i - center[0])**2 + (j - center[1])**2) <= r:\n",
    "            mask[i,j] = 1\n",
    "\n",
    "fft_filtered = fft_shifted * mask\n",
    "fft_inverse_shifted = np.fft.ifftshift(fft_filtered)\n",
    "\n",
    "filtered_image = np.fft.ifft2(fft_inverse_shifted)\n",
    "filtered_image = normalize_min_max(np.abs(filtered_image))\n",
    "\n",
    "# Display the filtered image\n",
    "fig, ax = plt.subplots(nrows=1, ncols=3, figsize=(15, 5))\n",
    "\n",
    "im0 = ax[0].imshow(filtered_image, label='filtered image')\n",
    "ax[0].set_title('filtered image')\n",
    "fig.colorbar(im0, ax=ax[0])\n",
    "\n",
    "im1 = ax[1].imshow(normalize_min_max(image))\n",
    "ax[1].set_title('raw image')\n",
    "fig.colorbar(im1, ax=ax[1])\n",
    "\n",
    "im2 = ax[2].imshow(normalize_min_max((np.abs(filtered_image-normalize_min_max(image)))))\n",
    "ax[2].set_title('difference')\n",
    "fig.colorbar(im2, ax=ax[2])\n",
    "plt.show()\n",
    "\n"
   ]
  },
  {
   "cell_type": "markdown",
   "metadata": {},
   "source": [
    "### Anisotropic diffusion filtering"
   ]
  },
  {
   "cell_type": "code",
   "execution_count": null,
   "metadata": {},
   "outputs": [],
   "source": [
    "# Parameters:\n",
    "#   iterations: Number of iterations to run the diffusion process.\n",
    "#   kappa: Threshold for edge stopping (higher means less edge detection).\n",
    "#   gamma: Step size (controls diffusion speed).\n",
    "filtered_image = anisotropic_diffusion(image, niter=50, kappa=30, gamma=.31)\n",
    "\n",
    "fig, ax = plt.subplots(nrows=1, ncols=3, figsize=(15, 5))\n",
    "\n",
    "im0 = ax[0].imshow(filtered_image)\n",
    "ax[0].set_title('filtered image')\n",
    "fig.colorbar(im0, ax=ax[0])\n",
    "\n",
    "im1 = ax[1].imshow(image)\n",
    "ax[1].set_title('raw image')\n",
    "fig.colorbar(im1, ax=ax[1])\n",
    "\n",
    "im2 = ax[2].imshow(image-filtered_image)\n",
    "ax[2].set_title('difference')\n",
    "fig.colorbar(im2, ax=ax[2])\n",
    "plt.show()"
   ]
  }
 ],
 "metadata": {
  "kernelspec": {
   "display_name": "skyrmion",
   "language": "python",
   "name": "python3"
  },
  "language_info": {
   "codemirror_mode": {
    "name": "ipython",
    "version": 3
   },
   "file_extension": ".py",
   "mimetype": "text/x-python",
   "name": "python",
   "nbconvert_exporter": "python",
   "pygments_lexer": "ipython3",
   "version": "3.12.3"
  }
 },
 "nbformat": 4,
 "nbformat_minor": 2
}
