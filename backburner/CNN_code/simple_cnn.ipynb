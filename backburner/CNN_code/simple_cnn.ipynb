{
 "cells": [
  {
   "cell_type": "code",
   "execution_count": null,
   "metadata": {
    "colab": {
     "base_uri": "https://localhost:8080/",
     "height": 74
    },
    "id": "p2U1QuRbVmYP",
    "outputId": "5fa7b1dc-23d2-435c-fee7-14b91d082e8f"
   },
   "outputs": [],
   "source": [
    "# from google.colab import files\n",
    "# uploaded = files.upload()"
   ]
  },
  {
   "cell_type": "code",
   "execution_count": null,
   "metadata": {
    "id": "SNHbeHwuVzI6"
   },
   "outputs": [],
   "source": [
    "import numpy as np\n",
    "\n",
    "# Load data from file\n",
    "# Saved using loaddata_and_save.ipynb\n",
    "data = np.load('training_data.npz')\n",
    "intensity = data['intensity']\n",
    "phi = data['phi']\n",
    "# print(intensity)\n",
    "# print(phi)\n",
    "# print(intensity.shape)\n",
    "# print(phi.shape)\n",
    "\n",
    "# Data preprocessing (exclude nan values)\n",
    "mask = ~np.isnan(phi)\n",
    "intensity = intensity[mask]\n",
    "phi = phi[mask]\n",
    "# print(intensity)\n",
    "# print(phi)\n",
    "# print(intensity.shape)\n",
    "# print(phi.shape)"
   ]
  },
  {
   "cell_type": "code",
   "execution_count": null,
   "metadata": {
    "colab": {
     "base_uri": "https://localhost:8080/"
    },
    "id": "tGsqw-QQV-Hh",
    "outputId": "60f195c8-bc79-417d-cf96-cc3fe49db870"
   },
   "outputs": [],
   "source": [
    "import numpy as np\n",
    "import tensorflow as tf\n",
    "from tensorflow.keras.models import Sequential\n",
    "from tensorflow.keras.layers import Conv2D, MaxPooling2D, Flatten, Dense\n",
    "\n",
    "# Define input data\n",
    "input_data = intensity\n",
    "\n",
    "# Define a simple 1D CNN model\n",
    "model = Sequential([\n",
    "    Conv2D(32, kernel_size=(1, 1), activation='relu', input_shape=(128, 128, 1)),\n",
    "    MaxPooling2D(pool_size=(1, 1)),\n",
    "    Flatten(),\n",
    "    Dense(64, activation='relu'),\n",
    "    Dense(1, activation='linear')\n",
    "])\n",
    "\n",
    "# Fit model, perform prediction and evaluation\n",
    "model.compile(optimizer='adam', loss='mean_squared_error')\n",
    "model.fit(input_data, phi, epochs=20, batch_size=1)\n",
    "loss = model.evaluate(input_data, phi)\n",
    "print(f\"Model loss: {loss}\")\n",
    "predictions = model.predict(input_data)\n",
    "print(f\"Predicted phi: {predictions.flatten()}\")\n",
    "print(f\"Original phi: {phi}\")"
   ]
  },
  {
   "cell_type": "code",
   "execution_count": null,
   "metadata": {
    "id": "54Xs3Yu827Uj"
   },
   "outputs": [],
   "source": [
    "# Add more noise to training set"
   ]
  }
 ],
 "metadata": {
  "colab": {
   "provenance": []
  },
  "kernelspec": {
   "display_name": "Python 3",
   "name": "python3"
  },
  "language_info": {
   "name": "python",
   "version": "3.12.3"
  }
 },
 "nbformat": 4,
 "nbformat_minor": 0
}
