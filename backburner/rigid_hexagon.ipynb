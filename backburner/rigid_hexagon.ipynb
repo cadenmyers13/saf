{
 "cells": [
  {
   "cell_type": "code",
   "execution_count": null,
   "metadata": {},
   "outputs": [],
   "source": [
    "# h5 file opener\n",
    "\n",
    "import h5py\n",
    "import numpy as np\n",
    "import cv2\n",
    "import matplotlib.pyplot as plt\n",
    "\n",
    "hdf5_path = r\"/Users/cadenmyers/billingelab/dev/skyrmion-lattices/December_extracted_data.h5\"\n",
    "\n",
    "def open_hdf5(file_path):\n",
    "    \"\"\" Open an HDF5 file and return the file object. \"\"\"\n",
    "    return h5py.File(file_path, 'r')\n",
    "\n",
    "hdf5_file = open_hdf5(hdf5_path)\n",
    "\n",
    "#print(hdf5_file)"
   ]
  },
  {
   "cell_type": "code",
   "execution_count": null,
   "metadata": {},
   "outputs": [],
   "source": [
    "# Gaussian blur\n",
    "\n",
    "def preprocess_image(image):\n",
    "    # Apply Gaussian smoothing\n",
    "    return cv2.GaussianBlur(image, (5, 5), 0)\n",
    "\n",
    "#print(preprocess_image(intensity_vals))\n"
   ]
  },
  {
   "cell_type": "code",
   "execution_count": null,
   "metadata": {},
   "outputs": [],
   "source": [
    "# Extraction of data for numors\n",
    "\n",
    "def get_data_for_ml(hdf5_file, numor_ids):\n",
    "    \"\"\" Extract data and metadata for ML/AI applications for one or multiple numors. \"\"\"\n",
    "    all_data = {}\n",
    "    \n",
    "    # Ensure numor_ids is a list for single and multiple numor handling\n",
    "    if not isinstance(numor_ids, list):\n",
    "        numor_ids = [numor_ids]\n",
    "    \n",
    "    for numor_id in numor_ids:\n",
    "        group = hdf5_file[f'Numor{numor_id}']\n",
    "        data = {\n",
    "            'q_x': group['q_x (inverse angstrom)'][:],\n",
    "            'q_y': group['q_y (inverse angstrom)'][:],\n",
    "            'intensity': group['intensity (counts per standard monitor)'][:],\n",
    "            'intensity_err': group['intensity_err (counts per standard monitor)'][:]\n",
    "        }\n",
    "        \n",
    "        # Retrieve and include metadata in the dictionary\n",
    "        metadata = {attr: group.attrs[attr] for attr in group.attrs}\n",
    "        data.update(metadata)\n",
    "        \n",
    "        # Store data for this numor keyed by its ID\n",
    "        all_data[numor_id] = data\n",
    "    \n",
    "    return all_data\n",
    "\n",
    "#print(get_data_for_ml(hdf5_file, start_numor))"
   ]
  },
  {
   "cell_type": "code",
   "execution_count": null,
   "metadata": {},
   "outputs": [],
   "source": [
    "# Defines hexagon for a specified center, radius, and rotation angle\n",
    "\n",
    "import numpy as np\n",
    "\n",
    "def hexagon_vertices(center, radius, angle):\n",
    "    vertices = []\n",
    "    for i in range(6):\n",
    "        theta = np.radians(60 * i + angle)\n",
    "        x = center[0] + radius * np.cos(theta)\n",
    "        y = center[1] + radius * np.sin(theta)\n",
    "        vertices.append((x, y))\n",
    "    return np.array(vertices)\n",
    "\n",
    "#center = (0, 0)\n",
    "#radius = 1\n",
    "#angle = 0\n",
    "#print(hexagon_vertices(center, radius, angle))\n",
    "#vertices = hexagon_vertices(center, radius, angle)\n",
    "#plt.figure()\n",
    "#plt.plot(*zip(*vertices), marker='o')\n",
    "#plt.xlim(-1, 1)\n",
    "#plt.ylim(-1, 1)\n",
    "#plt.gca().set_aspect('equal', adjustable='box')\n",
    "#plt.show()"
   ]
  },
  {
   "cell_type": "code",
   "execution_count": null,
   "metadata": {},
   "outputs": [],
   "source": [
    "# Find hexagon orientation that optimizes intensity at vertices\n",
    "\n",
    "def evaluate_orientation(image, center, radius, vertex_area=8):\n",
    "    max_intensity_sum = 0\n",
    "    best_angle = 0\n",
    "    half_area = vertex_area // 2\n",
    "\n",
    "    for angle in range(0, 360, 1):  # 1 degree steps\n",
    "        vertices = hexagon_vertices(center, radius, angle)\n",
    "        intensity_sum = 0\n",
    "        \n",
    "        for vertex in vertices:\n",
    "            x, y = int(vertex[0]), int(vertex[1])\n",
    "            if 0 <= x < image.shape[1] and 0 <= y < image.shape[0]:\n",
    "                x_min = max(0, x - half_area)\n",
    "                x_max = min(image.shape[1], x + half_area + 1)\n",
    "                y_min = max(0, y - half_area)\n",
    "                y_max = min(image.shape[0], y + half_area + 1)\n",
    "                intensity_sum += np.sum(image[y_min:y_max, x_min:x_max])\n",
    "\n",
    "        if intensity_sum > max_intensity_sum:\n",
    "            max_intensity_sum = intensity_sum\n",
    "            best_angle = angle\n",
    "\n",
    "    return best_angle, max_intensity_sum"
   ]
  }
 ],
 "metadata": {
  "kernelspec": {
   "display_name": "skyrmion",
   "language": "python",
   "name": "python3"
  },
  "language_info": {
   "codemirror_mode": {
    "name": "ipython",
    "version": 3
   },
   "file_extension": ".py",
   "mimetype": "text/x-python",
   "name": "python",
   "nbconvert_exporter": "python",
   "pygments_lexer": "ipython3",
   "version": "3.12.3"
  }
 },
 "nbformat": 4,
 "nbformat_minor": 2
}
