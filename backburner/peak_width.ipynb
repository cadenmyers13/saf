{
 "cells": [
  {
   "cell_type": "code",
   "execution_count": null,
   "id": "0",
   "metadata": {},
   "outputs": [],
   "source": [
    "import numpy as np\n",
    "from PIL import Image, ImageSequence\n",
    "import matplotlib.pyplot as plt\n",
    "import torch"
   ]
  },
  {
   "cell_type": "code",
   "execution_count": null,
   "id": "1",
   "metadata": {},
   "outputs": [],
   "source": [
    "# Import images from .npz files\n",
    "# Extract data file paths\n",
    "# file_path = r'C:\\Users\\Nathan\\OneDrive - nd.edu\\Desktop\\SANS Data\\Experiments\\PSI Cu2OSeO3 Corbino July 2023\\Analysis\\Field Sweep\\HDF to npz files\\\\'\n",
    "# Import images from .npz files\n",
    "# Extract data file paths\n",
    "file_path = \"/Users/cadenmyers/billingelab/dev/skyrmion_lattices/experimental_data/npz_sept_data/npz_field_sweep/\"\n",
    "\n",
    "# TEMP SWEEP MOVIES\n",
    "# movies = ['121855.npz', '118923.npz', '119486.npz', '119996.npz', '120506.npz', '121016.npz', '121405.npz', '121550.npz', '122365.npz', '122875.npz']\n",
    "\n",
    "# FIELD SWEEP MOVIES OLD\n",
    "#movies = ['Field_29mT.npz', 'Field_31mT.npz', 'Field_32mT.npz', 'Field_33mT.npz', 'Field_37mT.npz']\n",
    "\n",
    "#SEPT DATA\n",
    "movies = ['neg23mT_553_50mW.npz', 'neg23mT_558_25mW.npz', 'neg25mT_553_50mW.npz', 'neg25mT_558_25mW.npz', 'neg27mT_553_50mW.npz', \n",
    "          'neg27mT_558_25mW.npz', 'neg29mT_553_50mW.npz', 'neg29mT_558_25mW.npz', 'neg31mT_553_50mW.npz', 'neg31mT_558_25mW.npz', \n",
    "          'neg33mT_553_50mW.npz', 'neg33mT_558_25mW.npz', 'neg35mT_553_50mW.npz', 'pos23mT_553_50mW.npz', 'pos23mT_558_25mW.npz', \n",
    "          'pos25mT_553_50mW.npz', 'pos25mT_558_25mW.npz', 'pos27mT_553_50mW.npz', 'pos27mT_558_25mW.npz', 'pos29mT_553_50mW.npz', \n",
    "          'pos29mT_558_25mW.npz', 'pos31mT_553_50mW.npz', 'pos31mT_558_25mW.npz', 'pos33mT_553_50mW.npz', 'pos33mT_558_25mW.npz']\n",
    "# Define the movie you want to run GD and GS on as gif (gif = movies[i])\n",
    "gif = movies[15]\n",
    "print(gif)\n",
    "movie = np.load(file_path + gif)\n",
    "print(movie)\n",
    "intensity_data = torch.tensor(movie['data'])\n",
    "print(intensity_data.shape)\n"
   ]
  },
  {
   "cell_type": "code",
   "execution_count": null,
   "id": "2",
   "metadata": {},
   "outputs": [],
   "source": [
    "# Function 1: Define the mask function that divides the intensity grid into peaks (1) and noises (0)\n",
    "def apply_threshold_mask(grid, threshold):\n",
    "    masked_grid = np.where(grid < threshold, 0, 1)\n",
    "    return masked_grid"
   ]
  },
  {
   "cell_type": "code",
   "execution_count": null,
   "id": "3",
   "metadata": {},
   "outputs": [],
   "source": [
    "# Function 2: Use recursive DFS to find all peaks (connected 1s) and return their coordinates\n",
    "def get_peak_coordinates(grid):\n",
    "    rows, cols = len(grid), len(grid[0])\n",
    "    peaks = []\n",
    "\n",
    "    def dfs(r, c, peak):\n",
    "        \"\"\"\n",
    "        If out of bounds or is not a peak (0), return 0\n",
    "        Mark the point as visited (change 1 to 0)\n",
    "        Add the current point's coordinates to the current peak list\n",
    "        Explore all 4 directions (up, down, left, right)\n",
    "        \"\"\"\n",
    "        if r < 0 or r >= rows or c < 0 or c >= cols or grid[r][c] == 0:\n",
    "            return 0\n",
    "        grid[r][c] = 0\n",
    "        peak.append((c, r)) # <=> (x, y)\n",
    "        dfs(r + 1, c, peak)\n",
    "        dfs(r - 1, c, peak)\n",
    "        dfs(r, c + 1, peak)\n",
    "        dfs(r, c - 1, peak)\n",
    "\n",
    "    for r in range(rows):\n",
    "        for c in range(cols):\n",
    "            if grid[r][c] == 1:\n",
    "                current_peak = []\n",
    "                dfs(r, c, current_peak)\n",
    "                peaks.append(current_peak)\n",
    "    \n",
    "    return peaks"
   ]
  },
  {
   "cell_type": "code",
   "execution_count": null,
   "id": "4",
   "metadata": {},
   "outputs": [],
   "source": [
    "import math\n",
    "\n",
    "# Function 3: Find azimuth width by finding the maximal Euclidean distance for each peak\n",
    "def find_azimuth_width(points):\n",
    "    max_dist = 0\n",
    "    for i in range(len(points)):\n",
    "        for j in range(i + 1, len(points)):\n",
    "            x1, y1 = points[i]\n",
    "            x2, y2 = points[j]\n",
    "            distance = math.sqrt((x2 - x1) ** 2 + (y2 - y1) ** 2)\n",
    "            if distance > max_dist:\n",
    "                max_dist = distance\n",
    "    return max_dist"
   ]
  },
  {
   "cell_type": "code",
   "execution_count": null,
   "id": "5",
   "metadata": {},
   "outputs": [],
   "source": [
    "# hyperparameter\n",
    "cluster_threshold = 0.2\n",
    "\n",
    "# Example (change the next line to see different frames)\n",
    "intensity = intensity_data[5]\n",
    "intensity = (intensity - intensity.min()) / (intensity.max() - intensity.min())\n",
    "processed_intensity = apply_threshold_mask(intensity, cluster_threshold)\n",
    "\n",
    "fig, ax = plt.subplots(nrows=1, ncols=2, figsize=(10, 5))\n",
    "ax[0].imshow(intensity / intensity.abs().max().detach().T, origin='lower')\n",
    "ax[1].imshow(processed_intensity / processed_intensity.max().T, origin='lower')\n",
    "plt.show()\n",
    "\n",
    "peaks = get_peak_coordinates(processed_intensity)\n",
    "widths = []\n",
    "for i, points in enumerate(peaks):\n",
    "    width = find_azimuth_width(points)\n",
    "    widths.append(width)\n",
    "print(\"Peak coordinate list:\", peaks)\n",
    "print(\"Azimuth width list:\", widths)"
   ]
  },
  {
   "cell_type": "code",
   "execution_count": null,
   "id": "6",
   "metadata": {},
   "outputs": [],
   "source": [
    "# We can build a model that determines laser threshold from width/area once we're happy with the calculation above"
   ]
  },
  {
   "cell_type": "code",
   "execution_count": null,
   "id": "7",
   "metadata": {},
   "outputs": [],
   "source": []
  }
 ],
 "metadata": {
  "kernelspec": {
   "display_name": "Python 3 (ipykernel)",
   "language": "python",
   "name": "python3"
  },
  "language_info": {
   "codemirror_mode": {
    "name": "ipython",
    "version": 3
   },
   "file_extension": ".py",
   "mimetype": "text/x-python",
   "name": "python",
   "nbconvert_exporter": "python",
   "pygments_lexer": "ipython3",
   "version": "3.12.3"
  }
 },
 "nbformat": 4,
 "nbformat_minor": 5
}
