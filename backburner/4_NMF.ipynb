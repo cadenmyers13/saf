{
 "cells": [
  {
   "cell_type": "markdown",
   "id": "0",
   "metadata": {},
   "source": [
    "# Non-Negative Matrix Factorization (NMF)"
   ]
  },
  {
   "cell_type": "markdown",
   "id": "1",
   "metadata": {},
   "source": [
    "This module focuses on factorizing and breaking a dataset into individual componenets"
   ]
  },
  {
   "cell_type": "markdown",
   "id": "2",
   "metadata": {},
   "source": [
    "# Setup imports and notebook"
   ]
  },
  {
   "cell_type": "code",
   "execution_count": null,
   "id": "3",
   "metadata": {},
   "outputs": [],
   "source": [
    "import matplotlib.pyplot as plt\n",
    "\n",
    "from imports import *\n",
    "from run_paths import *"
   ]
  },
  {
   "cell_type": "code",
   "execution_count": null,
   "id": "4",
   "metadata": {},
   "outputs": [],
   "source": [
    "%matplotlib qt\n",
    "cln_fig = False"
   ]
  },
  {
   "cell_type": "code",
   "execution_count": null,
   "id": "5",
   "metadata": {},
   "outputs": [],
   "source": [
    "%matplotlib inline\n",
    "cln_fig = True"
   ]
  },
  {
   "cell_type": "markdown",
   "id": "6",
   "metadata": {},
   "source": [
    "# Setup Run"
   ]
  },
  {
   "cell_type": "markdown",
   "id": "7",
   "metadata": {},
   "source": []
  },
  {
   "cell_type": "code",
   "execution_count": null,
   "id": "8",
   "metadata": {},
   "outputs": [],
   "source": [
    "# config paths\n",
    "#########################################\n",
    "config_path_name = 'unified'\n",
    "config_name = 'NMF'\n",
    "#########################################\n",
    "file_extension = 'h5'\n",
    "\n",
    "# setup\n",
    "setup = Setup()\n",
    "Config, D, M, P = setup.run_config(projects_path, project_name, experiment, config_path_name, config_name)\n",
    "# standard h5 paths\n",
    "read_path, write_path = setup.get_path_objects(extension=file_extension)\n",
    "root_name, node_name = setup.get_tree_objects()\n",
    "# Load Datacube\n",
    "datapath = os.path.join(root_name, node_name)\n",
    "datapath = IO.get_posix_path(datapath)\n",
    "dc = IO.read_emd(read_path, datapath=datapath, verbose=1)"
   ]
  },
  {
   "cell_type": "markdown",
   "id": "9",
   "metadata": {},
   "source": [
    "# Parameters"
   ]
  },
  {
   "cell_type": "code",
   "execution_count": null,
   "id": "10",
   "metadata": {},
   "outputs": [],
   "source": [
    "P.__dict__"
   ]
  },
  {
   "cell_type": "code",
   "execution_count": null,
   "id": "11",
   "metadata": {},
   "outputs": [],
   "source": [
    "# test image coordinates\n",
    "rx, ry = P.test_index\n",
    "\n",
    "#vimg_name\n",
    "vimg_name = P.vimg_name\n",
    "\n",
    "# generate ROI\n",
    "manual_mask = P.manual_mask\n",
    "\n",
    "# save results\n",
    "save_results = P.save_results"
   ]
  },
  {
   "cell_type": "markdown",
   "id": "12",
   "metadata": {},
   "source": [
    "# Sample Data\n",
    "1. generate a real-space ROI indexes\n",
    "1. get mean/max of these indexes\n",
    "1. get only those indexes + centers within the ROI"
   ]
  },
  {
   "cell_type": "code",
   "execution_count": null,
   "id": "13",
   "metadata": {},
   "outputs": [],
   "source": [
    "exec(setup.live_update_config(verbose=False))\n",
    "\n",
    "# generate ROI   # TODO - move mask AFTER physical shifting\n",
    "dirpath = os.path.dirname(read_path)\n",
    "img = util.get_image(dc, vimg_name)\n",
    "msk = None\n",
    "if manual_mask:\n",
    "    msk, _ = Utils.draw_static_mask(img.data, dirpath)"
   ]
  },
  {
   "cell_type": "code",
   "execution_count": null,
   "id": "14",
   "metadata": {},
   "outputs": [],
   "source": [
    "\n",
    "# sample\n",
    "dp_original = dc.data[rx][ry].copy()  # copy a sample dp after operation\n",
    "dp_mean = dc.get_virtual_diffraction(\n",
    "    method=\"mean\",\n",
    "    mask=msk,\n",
    "    shift_center=False,\n",
    "    subpixel=False,\n",
    "    verbose=True,\n",
    "    name=\"dp_mean_masked\",\n",
    "    returncalc=True, )\n",
    "\n",
    "dp_max = dc.get_virtual_diffraction(\n",
    "    method=\"max\",\n",
    "    mask=msk,\n",
    "    shift_center=False,\n",
    "    subpixel=False,\n",
    "    verbose=True,\n",
    "    name=\"dp_max_masked\",\n",
    "    returncalc=True, )\n",
    "# visualize\n",
    "vis.diffraction([dp_mean.data, dp_max.data, dp_original],\n",
    "                title=(f'mean', 'max', f'point (Rx,Ry): {ry},{rx}'),\n",
    "                # markers=markers,\n",
    "                add_colorbar=False,\n",
    "                log_scale=False,\n",
    "                cmap='viridis',\n",
    "                clean_before=cln_fig,\n",
    "                num='_inspect',\n",
    "                vmin=0, vmax=5000,\n",
    "                figsize=(3, 3))"
   ]
  },
  {
   "cell_type": "markdown",
   "id": "15",
   "metadata": {},
   "source": [
    " # Flatten"
   ]
  },
  {
   "cell_type": "markdown",
   "id": "16",
   "metadata": {},
   "source": [
    "### Test round trip and get example from 'mean'"
   ]
  },
  {
   "cell_type": "code",
   "execution_count": null,
   "id": "17",
   "metadata": {},
   "outputs": [],
   "source": [
    "# round trip\n",
    "gx, gy = icnv.get_center(dp_mean.data, 'geographic_center')  # geographic center\n",
    "# gx, gy = 135, 115\n",
    "master_shape = dp_mean.data.shape\n",
    "_flat_arr = icnv.reshape_2D_to_1D(dp_mean.data)\n",
    "_reco_img = icnv.reshape_1D_to_2D(_flat_arr, master_shape)\n",
    "vis.diffraction([dp_mean.data, _reco_img],\n",
    "                title=(f'original', 'round_tripped'),\n",
    "                markers=[(gx, gy), (gx, gy), (gx, gy)],\n",
    "                add_colorbar=False,\n",
    "                log_scale=False,\n",
    "                cmap='viridis',\n",
    "                clean_before=cln_fig,\n",
    "                num='inspect',\n",
    "                vmin=0, vmax=5000,\n",
    "                figsize=(3.5, 3.5))\n",
    "# array for NMF\n",
    "fig, ax = plt.subplots(1, 1, num='flat arr', figsize=(6.5, 3))\n",
    "ax.plot(_flat_arr, '-', ms=1)\n",
    "ax.set_title('Flat - 1D array of a 2D diffraction pattern')"
   ]
  },
  {
   "cell_type": "code",
   "execution_count": null,
   "id": "18",
   "metadata": {},
   "outputs": [],
   "source": [
    "# round trip\n",
    "gx, gy = icnv.get_center(dp_max.data, 'geographic_center')  # geographic center\n",
    "# gx, gy = 135, 115\n",
    "master_shape = dp_max.data.shape\n",
    "_flat_arr = icnv.reshape_2D_to_1D(dp_max.data)\n",
    "_reco_img = icnv.reshape_1D_to_2D(_flat_arr, master_shape)\n",
    "vis.diffraction([dp_max.data, _reco_img],\n",
    "                title=(f'original', 'round_tripped'),\n",
    "                markers=[(gx, gy), (gx, gy), (gx, gy)],\n",
    "                add_colorbar=False,\n",
    "                log_scale=False,\n",
    "                cmap='viridis',\n",
    "                clean_before=cln_fig,\n",
    "                num='inspect',\n",
    "                vmin=0, vmax=5000,\n",
    "                figsize=(3.5, 3.5))\n",
    "# array for NMF\n",
    "fig, ax = plt.subplots(1, 1, num='flat arr', figsize=(6.5, 3))\n",
    "ax.plot(_flat_arr, '-', ms=1)\n",
    "ax.set_title('Flat - 1D array of a 2D diffraction pattern')"
   ]
  },
  {
   "cell_type": "markdown",
   "id": "19",
   "metadata": {},
   "source": [
    "### Create dataset"
   ]
  },
  {
   "cell_type": "code",
   "execution_count": null,
   "id": "20",
   "metadata": {},
   "outputs": [],
   "source": [
    "# test for round trip\n",
    "if False:\n",
    "    R_shape = list(ds.shape[:-2])\n",
    "    Q_shape = list(ds.shape[-2:])\n",
    "    _flatR = dcnv.flatten_RQ(ds, on_R=True, on_Q=False)\n",
    "    _flatQ = dcnv.flatten_RQ(ds, on_R=False, on_Q=True)\n",
    "    _flatRQ = dcnv.flatten_RQ(ds, on_R=True, on_Q=True)\n",
    "    _R = dcnv.reshape_to_4D(_flatR, dims=R_shape, on_R=True, on_Q=False).shape\n",
    "    _Q = dcnv.reshape_to_4D(_flatQ, dims=Q_shape, on_R=False, on_Q=True).shape\n",
    "    _RQ = dcnv.reshape_to_4D(_flatRQ, dims=[R_shape, Q_shape], on_R=True, on_Q=True).shape\n",
    "    _RQ == _Q == _R"
   ]
  },
  {
   "cell_type": "code",
   "execution_count": null,
   "id": "21",
   "metadata": {},
   "outputs": [],
   "source": [
    "ds = dc.data\n",
    "flat_ds = dcnv.flatten_RQ(ds, on_R=True, on_Q=True)\n",
    "flat_ds.shape\n",
    "# plt.plot(flat_ds[5005], '.', ms=1)\n",
    "# set up array + masks if needed\n",
    "data_arr = flat_ds"
   ]
  },
  {
   "cell_type": "markdown",
   "id": "22",
   "metadata": {},
   "source": [
    "# PCA"
   ]
  },
  {
   "cell_type": "code",
   "execution_count": null,
   "id": "23",
   "metadata": {},
   "outputs": [],
   "source": [
    "# PCA parameters\n",
    "N_pca = 2  # number of varience captured by the varience\n",
    "pca = PCA(n_components=N_pca, whiten=False)\n",
    "pca.fit(data_arr)"
   ]
  },
  {
   "cell_type": "code",
   "execution_count": null,
   "id": "24",
   "metadata": {},
   "outputs": [],
   "source": [
    "print(pca.explained_variance_ratio_)  # normalized eigen values \n",
    "print(np.cumsum(pca.explained_variance_ratio_))  # accumulative normalized eigen values \n",
    "print(pca.components_.shape)\n",
    "plt.plot(pca.explained_variance_ratio_, '-o')  # plotting the pca eigen values"
   ]
  },
  {
   "cell_type": "code",
   "execution_count": null,
   "id": "25",
   "metadata": {},
   "outputs": [],
   "source": [
    "pca_componenets = pca.components_  # all the components \n",
    "pca_weights = pca.transform(data_arr)  # normalized eigen vectors \n",
    "maps_theme = 'PCA'"
   ]
  },
  {
   "cell_type": "code",
   "execution_count": null,
   "id": "26",
   "metadata": {},
   "outputs": [],
   "source": [
    "shift = -0.4\n",
    "s = 0\n",
    "# colors_ind = [4, 0, 2, 1]\n",
    "colors_ind = list(range(N_pca))\n",
    "for i, (comp, ci) in enumerate(zip(pca_componenets, colors_ind), start=1):\n",
    "    plt.plot(comp + s, c=f\"C{ci}\", alpha=0.8, label=str(i))\n",
    "    #     plt.text(max(x[mask])+0.2, s, f'PC\\_{i}', fontsize=10)\n",
    "    plt.xlabel(r'r $(\\mathrm{\\AA})$', size=14)\n",
    "    plt.ylabel(r'G $(\\mathrm{\\AA}^{-2})$', size=14)\n",
    "    s += shift\n",
    "plt.title('PCA')\n",
    "plt.legend()"
   ]
  },
  {
   "cell_type": "code",
   "execution_count": null,
   "id": "27",
   "metadata": {},
   "outputs": [],
   "source": [
    "R_shape = list(ds.shape[:-2])\n",
    "Q_shape = list(ds.shape[-2:])\n",
    "pca_maps = []\n",
    "for _map in pca_weights.T:\n",
    "    _map = icnv.reshape_1D_to_2D(_map, R_shape)\n",
    "    pca_maps.append(_map)\n",
    "pca_maps.append(sum(pca_maps))\n",
    "titels = list(f'pc_{i}' for i in range(N_pca))\n",
    "titels.append('SUM')\n",
    "vis.diffraction(pca_maps,\n",
    "                title=titels,\n",
    "                add_colorbar=True,\n",
    "                log_scale=False,\n",
    "                cmap='viridis',\n",
    "                clean_before=cln_fig,\n",
    "                stack_view=True,\n",
    "                num='PCA',\n",
    "                # vmin=0, vmax=5,\n",
    "                figsize=(8, 10))"
   ]
  },
  {
   "cell_type": "markdown",
   "id": "28",
   "metadata": {},
   "source": [
    "# NMF"
   ]
  },
  {
   "cell_type": "code",
   "execution_count": null,
   "id": "29",
   "metadata": {},
   "outputs": [],
   "source": [
    "# nulify negative values\n",
    "if True:\n",
    "    data_arr = data_arr.clip(0) \n",
    "# add most negative value\n",
    "if False:\n",
    "    data_arr = data_arr+np.abs(data_arr.min())"
   ]
  },
  {
   "cell_type": "code",
   "execution_count": null,
   "id": "30",
   "metadata": {},
   "outputs": [],
   "source": [
    "N_nmf = 3 # number of varience captured by the varience\n",
    "nmf = NMF(N_nmf, max_iter=400, tol=1e-3, alpha_W=0, alpha_H='same', l1_ratio=0)\n",
    "nmf.fit(data_arr)\n",
    "nmf_componenets = nmf.components_\n",
    "nmf_weights = nmf.transform(data_arr)\n",
    "nmf_rec_err = nmf.reconstruction_err_\n",
    "print(nmf_rec_err)"
   ]
  },
  {
   "cell_type": "code",
   "execution_count": null,
   "id": "31",
   "metadata": {},
   "outputs": [],
   "source": [
    "nmf_weights.shape"
   ]
  },
  {
   "cell_type": "code",
   "execution_count": null,
   "id": "32",
   "metadata": {},
   "outputs": [],
   "source": [
    "shift = -500\n",
    "s = 0\n",
    "# colors_ind = [4, 0, 2, 1]\n",
    "colors_ind = list(range(N_nmf))\n",
    "nmf_comp_images = list()\n",
    "for i, (comp, ci) in enumerate(zip(nmf_componenets, colors_ind), start=1):\n",
    "    nmf_comp_images.append(icnv.reshape_1D_to_2D(comp, master_shape)+1)\n",
    "    plt.plot(comp + s, c=f\"C{ci}\", alpha=0.8, label=str(i))\n",
    "    #     plt.text(max(x[mask])+0.2, s, f'PC\\_{i}', fontsize=10)\n",
    "    s += shift\n",
    "plt.title('NMF')\n",
    "plt.legend()\n",
    "\n"
   ]
  },
  {
   "cell_type": "code",
   "execution_count": null,
   "id": "33",
   "metadata": {},
   "outputs": [],
   "source": [
    "vis.diffraction(nmf_comp_images,\n",
    "                title=list(f'pc_{i}' for i in range(N_nmf)),\n",
    "                add_colorbar=True,\n",
    "                cmap='viridis',\n",
    "                clean_before=cln_fig,\n",
    "                stack_view=False,\n",
    "                shareax=True,\n",
    "                num='NMF_comp',\n",
    "                # log_scale=True,\n",
    "                # vmin=0, vmax=9000,\n",
    "                figsize=(10, 30))"
   ]
  },
  {
   "cell_type": "code",
   "execution_count": null,
   "id": "34",
   "metadata": {},
   "outputs": [],
   "source": [
    "R_shape = list(ds.shape[:-2])\n",
    "Q_shape = list(ds.shape[-2:])\n",
    "nmf_maps = []\n",
    "counter = 1\n",
    "for _map in nmf_weights.T:\n",
    "    counter+=1\n",
    "    _map = icnv.reshape_1D_to_2D(_map, R_shape)\n",
    "    nmf_maps.append(_map + 1)\n",
    "# nmf_maps.append(sum(nmf_maps))\n",
    "titles = list(f'pc_{i}' for i in range(N_nmf))\n",
    "titles.append('SUM')\n",
    "\n",
    "if True:\n",
    "    vis.diffraction(nmf_maps,\n",
    "                title=titles,\n",
    "                # add_colorbar=True,\n",
    "                # log_scale=True,\n",
    "                # axes_vis=True,\n",
    "                cmap='viridis',\n",
    "                clean_before=cln_fig,\n",
    "                # stack_view=True,\n",
    "                shareax=True,\n",
    "                num='NMF_weights',\n",
    "                # vmin=-0.1, vmax=1.3,\n",
    "                # vmin=0, vmax=4,\n",
    "                figsize=(10, 20))\n",
    "\n",
    "if False:  \n",
    "    get_ar = lambda x: nmf_maps[x]\n",
    "    H=int(counter/2)\n",
    "    W=int(counter/2)\n",
    "    \n",
    "    p4ds.visualize.show_image_grid(get_ar,\n",
    "                                   H=H, \n",
    "                                   W=W,\n",
    "                                   title=titles,\n",
    "                                   cmap='viridis',\n",
    "                                   scalebar=True,\n",
    "                                   scaling='log',\n",
    "                                   vmin=0, vmax=1,\n",
    "                                   axsize=(10,30))\n",
    "\n",
    "\n"
   ]
  },
  {
   "cell_type": "code",
   "execution_count": null,
   "id": "35",
   "metadata": {},
   "outputs": [],
   "source": [
    "selected = nmf_maps[1]+nmf_maps[2]\n",
    "vis.diffraction(selected,\n",
    "                title=list(f'pc_{i}' for i in range(N_nmf)),\n",
    "                add_colorbar=True,\n",
    "                log_scale=True,\n",
    "                cmap='viridis',\n",
    "                clean_before=cln_fig,\n",
    "                stack_view=True,\n",
    "                shareax=False,\n",
    "                num='_inspect_selected',\n",
    "                # vmin=0, vmax=500,\n",
    "                figsize=(5, 5))\n"
   ]
  },
  {
   "cell_type": "code",
   "execution_count": null,
   "id": "36",
   "metadata": {},
   "outputs": [],
   "source": [
    "p4ds.show(selected, scalebar={}, calibration=dc.calibration, space='R', cmap='viridis', vmin=0, vmax=0.9999)\n"
   ]
  },
  {
   "cell_type": "markdown",
   "id": "37",
   "metadata": {},
   "source": [
    "\n",
    "# Save"
   ]
  },
  {
   "cell_type": "code",
   "execution_count": null,
   "id": "38",
   "metadata": {},
   "outputs": [],
   "source": [
    "# # save processed data and collect relevant run configs\n",
    "# if save_results:\n",
    "#     util.save_processed_data(dc.root, write_path, Config.__dict__)\n",
    "#     input(\"Saved!\")\n",
    "# else:\n",
    "#     input(\"Done, NOT Saved.\")"
   ]
  },
  {
   "cell_type": "code",
   "id": "39",
   "metadata": {},
   "outputs": [],
   "source": []
  },
  {
   "cell_type": "code",
   "id": "40",
   "metadata": {},
   "outputs": [],
   "source": []
  }
 ],
 "metadata": {
  "kernelspec": {
   "display_name": "Python 3",
   "language": "python",
   "name": "python3"
  },
  "language_info": {
   "codemirror_mode": {
    "name": "ipython",
    "version": 2
   },
   "file_extension": ".py",
   "mimetype": "text/x-python",
   "name": "python",
   "nbconvert_exporter": "python",
   "pygments_lexer": "ipython2",
   "version": "2.7.6"
  }
 },
 "nbformat": 4,
 "nbformat_minor": 5
}
