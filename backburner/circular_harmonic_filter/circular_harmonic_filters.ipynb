{
 "cells": [
  {
   "cell_type": "code",
   "execution_count": null,
   "id": "0",
   "metadata": {},
   "outputs": [],
   "source": [
    "import numpy as np\n",
    "from PIL import Image, ImageSequence\n",
    "import matplotlib.pyplot as plt\n",
    "import torch\n",
    "\n",
    "# import numpy as np\n",
    "from PIL import Image, ImageSequence"
   ]
  },
  {
   "cell_type": "code",
   "execution_count": null,
   "id": "1",
   "metadata": {},
   "outputs": [],
   "source": [
    "from scipy.ndimage import gaussian_filter\n",
    "\n",
    "def mask_and_blur_images(array):\n",
    "    '''\n",
    "    masks signal inside radius of 14 and outside radius of 30 and adds gaussian blur for all intensity data\n",
    "    array = (128,128) intensity array\n",
    "    '''\n",
    "    x,y = np.meshgrid(np.arange(128), np.arange(128))\n",
    "    radius = np.sqrt((x-64)**2 + (y-62)**2)\n",
    "    mask1 = radius <= 14\n",
    "    mask2 = radius >= 30\n",
    "    masked_data = array.copy()\n",
    "    masked_data[mask1] = 0\n",
    "    masked_data2 = masked_data.copy()\n",
    "    masked_data2[mask2] = 0\n",
    "    # masked_data_norm = (masked_data - np.min(masked_data) / (np.max(masked_data) - np.min(masked_data)))\n",
    "    blurred_data = gaussian_filter(masked_data2, sigma=.65)\n",
    "    array = blurred_data\n",
    "    return array"
   ]
  },
  {
   "cell_type": "code",
   "execution_count": null,
   "id": "2",
   "metadata": {},
   "outputs": [],
   "source": [
    "def project_theta(theta, m_values):\n",
    "    \"\"\"\n",
    "    Project given 2D vectors onto sin(m*theta) and cos(m*theta) for various m values.\n",
    "    \n",
    "    Parameters:\n",
    "    vectors (np.ndarray): Array of shape (N, 2) representing N 2D vectors.\n",
    "    m_values (list or np.ndarray): Array of m values for projection.\n",
    "    \n",
    "    Returns:\n",
    "    projections (dict): Dictionary with m values as keys and the projected vectors as values.\n",
    "                        Each projected vector is an array of shape (N, 2).\n",
    "    \"\"\"\n",
    "    projections = []\n",
    "    \n",
    "    for m in m_values:\n",
    "        sin_m_theta = torch.sin(m * theta)\n",
    "        cos_m_theta = torch.cos(m * theta)\n",
    "        \n",
    "        # Form new vectors using the basis functions\n",
    "        projected_vectors = torch.stack((cos_m_theta, sin_m_theta), axis=-1)\n",
    "        \n",
    "        projections.append(projected_vectors)\n",
    "    \n",
    "    return torch.stack(projections, axis=0)\n",
    "\n",
    "coeff_list = [(1,0)]\n",
    "theta = 45 * torch.pi / 180\n",
    "image_shape = (128,128)\n",
    "center = (64,64)\n",
    "m_vals = torch.tensor([6])\n",
    "# m_vals = list(torch.arange(0,3))\n",
    "\n",
    "x = (project_theta(theta, m_vals))\n",
    "print(x)\n",
    "# plt.imshow(x)\n",
    "# plt.colorbar()"
   ]
  },
  {
   "cell_type": "code",
   "execution_count": null,
   "id": "3",
   "metadata": {},
   "outputs": [],
   "source": [
    "import torch\n",
    "\n",
    "def evaluate_functions_on_image(image_shape, coefficients_list, m_values, center):\n",
    "    \"\"\"\n",
    "    Evaluate the functions defined by coefficients for sin(m*theta) and cos(m*theta)\n",
    "    on an image of a specific shape, centered at a given coordinate.\n",
    "\n",
    "    Parameters:\n",
    "    image_shape (tuple): Shape of the image (height, width).\n",
    "    coefficients_list (list of tuples): List of coefficients for the sin and cos functions [(a_sin, a_cos), ...].\n",
    "    m_values (list): List of m values for the basis functions.\n",
    "    center (tuple): The center coordinate (x_center, y_center).\n",
    "\n",
    "    Returns:\n",
    "    torch.Tensor: 2D tensor of the evaluated function.\n",
    "    \"\"\"\n",
    "    height, width = image_shape\n",
    "    x_center, y_center = center\n",
    "\n",
    "    # Create coordinate grid\n",
    "    y, x = torch.meshgrid(torch.arange(height) - y_center, torch.arange(width) - x_center, indexing='ij')\n",
    "    \n",
    "    # Compute theta for each coordinate\n",
    "    theta = torch.atan2(y.float(), x.float())\n",
    "    \n",
    "    # Initialize the evaluated function image\n",
    "    evaluated_function = torch.zeros(image_shape, dtype=torch.float32)\n",
    "    \n",
    "    # Sum contributions from each m\n",
    "    for (a_cos, a_sin), m in zip(coefficients_list, m_values):\n",
    "        evaluated_function += a_sin * torch.sin(m * theta) + a_cos * torch.cos(m * theta)\n",
    "    \n",
    "    return evaluated_function\n",
    "\n",
    "y = evaluate_functions_on_image((128,128), coeff_list, m_vals, center)\n",
    "print(y.shape)\n",
    "plt.imshow(y)\n",
    "plt.colorbar()"
   ]
  },
  {
   "cell_type": "code",
   "execution_count": null,
   "id": "4",
   "metadata": {},
   "outputs": [],
   "source": [
    "def evaluate_functions_on_theta(theta, coefficients_list, m_values):\n",
    "    \"\"\"\n",
    "    Evaluate the functions defined by coefficients for sin(m*theta) and cos(m*theta)\n",
    "    on an image of a specific shape, centered at a given coordinate.\n",
    "\n",
    "    Parameters:\n",
    "    image_shape (tuple): Shape of the image (height, width).\n",
    "    coefficients_list (list of tuples): List of coefficients for the sin and cos functions [(a_sin, a_cos), ...].\n",
    "    m_values (list): List of m values for the basis functions.\n",
    "    center (tuple): The center coordinate (x_center, y_center).\n",
    "\n",
    "    Returns:\n",
    "    torch.Tensor: 2D tensor of the evaluated function.\n",
    "    \"\"\"\n",
    "\n",
    "    # Initialize the evaluated function image\n",
    "    evaluated_function = torch.zeros(theta.shape, dtype=torch.float32)\n",
    "    \n",
    "    # Sum contributions from each m\n",
    "    for (a_cos, a_sin), m in zip(coefficients_list, m_values):\n",
    "        evaluated_function += a_sin * torch.sin(m * theta) + a_cos * torch.cos(m * theta)\n",
    "    \n",
    "    return evaluated_function\n",
    "\n",
    "z = evaluate_functions_on_theta(data_theta, coeff_list, m_vals)\n",
    "plt.imshow(z)"
   ]
  },
  {
   "cell_type": "markdown",
   "id": "5",
   "metadata": {},
   "source": [
    "### Note, I think the columns and rows are showing x vs y respectively (opposite how we normally plot)\n",
    "#### We can double check this later"
   ]
  },
  {
   "cell_type": "code",
   "execution_count": null,
   "id": "6",
   "metadata": {},
   "outputs": [],
   "source": [
    "# Load data\n",
    "# data = np.load('image1.npz')['data']\n",
    "# data = np.load('images/image_111001.npz')['data']\n",
    "data = np.load('images/image_111019.npz')['data']\n",
    "\n",
    "# Split into theta and intensity\n",
    "\n",
    "# atan2(y, x)\n",
    "data_theta = torch.atan2(torch.tensor(data[1]), torch.tensor(data[0]))\n",
    "data_intensity = torch.tensor(data[2])\n",
    "print(data.shape)\n",
    "plt.imshow(data_theta)\n",
    "# plt.colorbar()"
   ]
  },
  {
   "cell_type": "code",
   "execution_count": null,
   "id": "7",
   "metadata": {},
   "outputs": [],
   "source": [
    "# Example for just cos(6\\theta)\n",
    "evaluate_image_theta = evaluate_functions_on_theta(data_theta, np.array([[1, 0]]), [6])\n",
    "plt.imshow(evaluate_image_theta.detach(), cmap='plasma')\n",
    "plt.colorbar()\n",
    "print(evaluate_image_theta.shape)"
   ]
  },
  {
   "cell_type": "code",
   "execution_count": null,
   "id": "8",
   "metadata": {},
   "outputs": [],
   "source": [
    "# Set of ms -- reduce for broader angles\n",
    "ms = torch.arange(12)\n",
    "\n",
    "# six-fold signa\n",
    "angles = torch.arange(0, 6) * 2 * torch.pi / 6.\n",
    "\n",
    "# Projection onto circular harmonics (cos(m\\theta), sin(m\\theta))\n",
    "projection = project_theta(angles, ms).sum(1)\n",
    "\n",
    "evaluate_image_theta = evaluate_functions_on_theta(data_theta, projection, ms)\n",
    "plt.imshow(evaluate_image_theta.detach(), cmap='plasma')\n",
    "plt.colorbar()"
   ]
  },
  {
   "cell_type": "markdown",
   "id": "9",
   "metadata": {},
   "source": [
    "## Load data and optimize offset"
   ]
  },
  {
   "cell_type": "code",
   "execution_count": null,
   "id": "10",
   "metadata": {},
   "outputs": [],
   "source": [
    "max_iter = 401\n",
    "\n",
    "\n",
    "# prev_offset = torch.tensor(1.4)\n",
    "prev_offset = 1.5\n",
    "offset = torch.tensor(0.001)\n",
    "offset.requires_grad = True\n",
    "opt = torch.optim.Adam([offset], lr=1e-1)\n",
    "\n",
    "for i in range(max_iter):\n",
    "    projection = project_theta(angles + offset**2 + prev_offset, ms).sum(1)\n",
    "    evaluate_image_theta = evaluate_functions_on_theta(data_theta, projection, ms)\n",
    "    loss = -(data_intensity * evaluate_image_theta).sum()\n",
    "    opt.zero_grad()\n",
    "    loss.backward()\n",
    "    opt.step()\n",
    "    if i % 100 == 0:\n",
    "        print(\"loss: \", loss.item(), \" offset angle: \", offset.item() * 180/torch.pi)\n",
    "\n",
    "# plt.imshow(data_intensity)\n"
   ]
  },
  {
   "cell_type": "code",
   "execution_count": null,
   "id": "11",
   "metadata": {},
   "outputs": [],
   "source": []
  },
  {
   "cell_type": "code",
   "execution_count": null,
   "id": "12",
   "metadata": {},
   "outputs": [],
   "source": [
    "fig, ax = plt.subplots(nrows=1, ncols=2, figsize=(10, 5))\n",
    "print(offset)\n",
    "ax[0].imshow(evaluate_image_theta.detach(), cmap='plasma')\n",
    "ax[1].imshow(data_intensity.detach(), cmap='plasma')"
   ]
  },
  {
   "cell_type": "code",
   "execution_count": null,
   "id": "13",
   "metadata": {},
   "outputs": [],
   "source": [
    "plt.imshow((evaluate_image_theta / evaluate_image_theta.abs().max() + data_intensity / data_intensity.abs().max()).detach(), cmap='plasma')\n",
    "plt.colorbar()"
   ]
  },
  {
   "cell_type": "code",
   "execution_count": null,
   "id": "14",
   "metadata": {},
   "outputs": [],
   "source": [
    "data_intensity.abs().max()"
   ]
  },
  {
   "cell_type": "code",
   "execution_count": null,
   "id": "15",
   "metadata": {},
   "outputs": [],
   "source": [
    "offset"
   ]
  },
  {
   "cell_type": "code",
   "execution_count": null,
   "id": "16",
   "metadata": {},
   "outputs": [],
   "source": [
    "# evaluated_image = evaluate_functions_on_image(image_shape, projection, m_values, center)\n",
    "evaluated_image = evaluate_functions_on_image(image_shape, np.array([[1, 0]]), [6], center)"
   ]
  },
  {
   "cell_type": "markdown",
   "id": "17",
   "metadata": {},
   "source": [
    "## Zero location roughly"
   ]
  },
  {
   "cell_type": "code",
   "execution_count": null,
   "id": "18",
   "metadata": {},
   "outputs": [],
   "source": [
    "data[0][64, 64]"
   ]
  },
  {
   "cell_type": "code",
   "execution_count": null,
   "id": "19",
   "metadata": {},
   "outputs": [],
   "source": [
    "data[1][64, 64]"
   ]
  },
  {
   "cell_type": "code",
   "execution_count": null,
   "id": "20",
   "metadata": {},
   "outputs": [],
   "source": [
    "plt.imshow(evaluated_image, cmap='plasma')"
   ]
  }
 ],
 "metadata": {
  "kernelspec": {
   "display_name": "skyrmion",
   "language": "python",
   "name": "python3"
  },
  "language_info": {
   "codemirror_mode": {
    "name": "ipython",
    "version": 3
   },
   "file_extension": ".py",
   "mimetype": "text/x-python",
   "name": "python",
   "nbconvert_exporter": "python",
   "pygments_lexer": "ipython3",
   "version": "3.12.3"
  }
 },
 "nbformat": 4,
 "nbformat_minor": 5
}
