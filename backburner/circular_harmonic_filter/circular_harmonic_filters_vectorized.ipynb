{
 "cells": [
  {
   "cell_type": "code",
   "execution_count": null,
   "id": "0",
   "metadata": {},
   "outputs": [],
   "source": [
    "import numpy as np\n",
    "from PIL import Image, ImageSequence\n",
    "import matplotlib.pyplot as plt\n",
    "import torch\n",
    "import os"
   ]
  },
  {
   "cell_type": "code",
   "execution_count": null,
   "id": "1",
   "metadata": {},
   "outputs": [],
   "source": [
    "def project_theta(theta, m_values, stack_axis=0):\n",
    "    \"\"\"\n",
    "    Project given 2D vectors onto sin(m*theta) and cos(m*theta) for various m values.\n",
    "    \n",
    "    Parameters:\n",
    "    vectors (np.ndarray): Array of shape (N, 2) representing N 2D vectors.\n",
    "    m_values (list or np.ndarray): Array of m values for projection.\n",
    "    \n",
    "    Returns:\n",
    "    projections (dict): Dictionary with m values as keys and the projected vectors as values.\n",
    "                        Each projected vector is an array of shape (N, 2).\n",
    "    \"\"\"\n",
    "    projections = []\n",
    "    \n",
    "    for m in m_values:\n",
    "        sin_m_theta = torch.sin(m * theta)\n",
    "        cos_m_theta = torch.cos(m * theta)\n",
    "        \n",
    "        # Form new vectors using the basis functions\n",
    "        projected_vectors = torch.stack((cos_m_theta, sin_m_theta), axis=-1)\n",
    "        \n",
    "        projections.append(projected_vectors)\n",
    "    \n",
    "    return torch.stack(projections, axis=stack_axis)\n"
   ]
  },
  {
   "cell_type": "code",
   "execution_count": null,
   "id": "2",
   "metadata": {},
   "outputs": [],
   "source": [
    "def evaluate_functions_on_theta(theta, coefficients_list, m_values):\n",
    "    \"\"\"\n",
    "    Evaluate the functions defined by coefficients for sin(m*theta) and cos(m*theta)\n",
    "    on an image of a specific shape, centered at a given coordinate.\n",
    "\n",
    "    Parameters:\n",
    "    theta (torch.Tensor): Tensor of angles.\n",
    "    coefficients_list (torch.Tensor): Tensor of shape (..., num_m_values, 2) with coefficients for sin and cos functions.\n",
    "    m_values (torch.Tensor): Tensor of m values for the basis functions.\n",
    "\n",
    "    Returns:\n",
    "    torch.Tensor: Tensor of the evaluated function.\n",
    "    \"\"\"\n",
    "    m_values = m_values.to(theta.dtype)\n",
    "    m_theta = m_values.view(-1, 1, 1) * theta\n",
    "\n",
    "    sin_m_theta = torch.sin(m_theta)\n",
    "    cos_m_theta = torch.cos(m_theta)\n",
    "\n",
    "    a_sin, a_cos = coefficients_list[..., 1], coefficients_list[..., 0]\n",
    "    a_sin = a_sin.view(*a_sin.shape[:-1], -1, 1, 1)\n",
    "    a_cos = a_cos.view(*a_cos.shape[:-1], -1, 1, 1)\n",
    "\n",
    "    evaluated_function = (a_sin * sin_m_theta + a_cos * cos_m_theta).sum(dim=-3)\n",
    "    \n",
    "    return evaluated_function"
   ]
  },
  {
   "cell_type": "code",
   "execution_count": null,
   "id": "3",
   "metadata": {},
   "outputs": [],
   "source": [
    "def process_npz_files(folder_path):\n",
    "    # List to store the numerical IDs\n",
    "    id_list = []\n",
    "\n",
    "    # List to store the NumPy arrays\n",
    "    array_list = []\n",
    "\n",
    "    # Loop through all files in the folder\n",
    "    sorted_files = sorted(os.listdir(folder_path))\n",
    "    \n",
    "    for filename in sorted_files:\n",
    "        if filename.endswith('.npz'):\n",
    "            # Extract the numerical ID from the filename\n",
    "            base_name = os.path.splitext(filename)[0]\n",
    "            num_id = base_name.split('_')[-1]\n",
    "            id_list.append(int(num_id))\n",
    "            \n",
    "            # Load the .npz file\n",
    "            file_path = os.path.join(folder_path, filename)\n",
    "            with np.load(file_path) as data:\n",
    "                # Assume there's a single array in the .npz file\n",
    "                array = list(data.values())[0]\n",
    "                array_list.append(array)\n",
    "\n",
    "    # Stack all arrays along the 0 axis\n",
    "    stacked_array = np.stack(array_list, axis=0)\n",
    "\n",
    "    return id_list, stacked_array\n",
    "\n",
    "# Example usage\n",
    "folder_path = 'images'  # Replace with your folder path\n",
    "id_list, stacked_array = process_npz_files(folder_path)\n",
    "\n",
    "print(\"List of IDs:\", id_list)\n",
    "print(\"Stacked array shape:\", stacked_array.shape)\n"
   ]
  },
  {
   "cell_type": "code",
   "execution_count": null,
   "id": "4",
   "metadata": {},
   "outputs": [],
   "source": [
    "# Load data\n",
    "data = stacked_array\n",
    "\n",
    "# Split into theta and intensity\n",
    "\n",
    "# atan2(y, x)\n",
    "## ASSUMING THAT THETA IS SAME ACROSS EXAMPLES\n",
    "data_theta = torch.atan2(torch.tensor(data[0, 1]), torch.tensor(data[0, 0]))\n",
    "data_intensity = torch.tensor(data[:, 2])"
   ]
  },
  {
   "cell_type": "code",
   "execution_count": null,
   "id": "5",
   "metadata": {},
   "outputs": [],
   "source": [
    "# Set of ms -- reduce for broader angles\n",
    "# ms = torch.arange(36)\n",
    "ms = torch.arange(12)\n",
    "\n",
    "# six-fold signal\n",
    "angles = torch.arange(0, 6) * 2 * torch.pi / 6.\n",
    "\n",
    "# Projection onto circular harmonics (cos(m\\theta), sin(m\\theta))\n",
    "projection = project_theta(angles, ms).sum(-2)\n",
    "\n",
    "evaluate_image_theta = evaluate_functions_on_theta(data_theta, projection, ms)\n",
    "plt.imshow(evaluate_image_theta.detach(), cmap='plasma')"
   ]
  },
  {
   "cell_type": "code",
   "execution_count": null,
   "id": "6",
   "metadata": {},
   "outputs": [],
   "source": [
    "max_iter = 501\n",
    "\n",
    "N = data_intensity.shape[0]\n",
    "\n",
    "offset = torch.zeros(N, 1)\n",
    "offset.requires_grad = True\n",
    "opt = torch.optim.Adam([offset], lr=1e-2)"
   ]
  },
  {
   "cell_type": "code",
   "execution_count": null,
   "id": "7",
   "metadata": {},
   "outputs": [],
   "source": [
    "for i in range(max_iter):\n",
    "    projection = project_theta(angles.reshape(1, -1) + offset, ms, stack_axis=1).sum(-2)\n",
    "    evaluate_image_theta = evaluate_functions_on_theta(data_theta, projection, ms)\n",
    "    loss = -(data_intensity * evaluate_image_theta).sum()\n",
    "    opt.zero_grad()\n",
    "    loss.backward()\n",
    "    opt.step()\n",
    "    if i % 100 == 0:\n",
    "        print(loss)\n",
    "        print(offset.abs().max())"
   ]
  },
  {
   "cell_type": "code",
   "execution_count": null,
   "id": "8",
   "metadata": {},
   "outputs": [],
   "source": [
    "projection = project_theta(angles.reshape(1, -1) + offset, ms, stack_axis=1).sum(-2)\n",
    "evaluate_image_theta = evaluate_functions_on_theta(data_theta, projection, ms)"
   ]
  },
  {
   "cell_type": "code",
   "execution_count": null,
   "id": "9",
   "metadata": {},
   "outputs": [],
   "source": [
    "i = 50\n",
    "fig, ax = plt.subplots(nrows=1, ncols=2, figsize=(10, 5))\n",
    "ax[0].imshow(np.sqrt(data_intensity[i].detach()), cmap='plasma')\n",
    "ax[1].imshow(evaluate_image_theta[i].detach(), cmap='plasma')"
   ]
  },
  {
   "cell_type": "code",
   "execution_count": null,
   "id": "10",
   "metadata": {},
   "outputs": [],
   "source": [
    "i = 24\n",
    "plt.imshow(\n",
    "    (evaluate_image_theta[i] / evaluate_image_theta[i].abs().max() + \n",
    "     data_intensity[i] / data_intensity[i].abs().max()).detach(), cmap='plasma')"
   ]
  },
  {
   "cell_type": "code",
   "execution_count": null,
   "id": "11",
   "metadata": {},
   "outputs": [],
   "source": [
    "fig, ax = plt.subplots(nrows=10, ncols=10, figsize=(30, 30))\n",
    "for i in range(10):\n",
    "    for j in range(10):\n",
    "        ax[i, j].imshow(data_intensity[i*10 + j], cmap='plasma')"
   ]
  },
  {
   "cell_type": "code",
   "execution_count": null,
   "id": "12",
   "metadata": {},
   "outputs": [],
   "source": [
    "plt.hist(np.rad2deg(offset.detach().reshape(-1)).numpy(), bins=20);"
   ]
  },
  {
   "cell_type": "code",
   "execution_count": null,
   "id": "13",
   "metadata": {},
   "outputs": [],
   "source": [
    "plt.plot(np.rad2deg(offset.detach().reshape(-1)).numpy())"
   ]
  },
  {
   "cell_type": "code",
   "execution_count": null,
   "id": "14",
   "metadata": {},
   "outputs": [],
   "source": []
  }
 ],
 "metadata": {
  "kernelspec": {
   "display_name": "skyrmion",
   "language": "python",
   "name": "python3"
  },
  "language_info": {
   "codemirror_mode": {
    "name": "ipython",
    "version": 3
   },
   "file_extension": ".py",
   "mimetype": "text/x-python",
   "name": "python",
   "nbconvert_exporter": "python",
   "pygments_lexer": "ipython3",
   "version": "3.12.3"
  }
 },
 "nbformat": 4,
 "nbformat_minor": 5
}
