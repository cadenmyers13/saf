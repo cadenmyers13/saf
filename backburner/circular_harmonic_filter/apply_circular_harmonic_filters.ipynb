{
 "cells": [
  {
   "cell_type": "code",
   "execution_count": null,
   "metadata": {},
   "outputs": [],
   "source": [
    "import numpy as np\n",
    "import torch\n",
    "import matplotlib.pyplot as plt"
   ]
  },
  {
   "cell_type": "code",
   "execution_count": null,
   "metadata": {},
   "outputs": [],
   "source": [
    "# Given a specified angle (theta) and a list of frequencies (m_values), this function gives\n",
    "# the x and y coordinates (i.e. the x-axis and y-axis projection) at the given theta for all frequencies\n",
    "# listed in m_values.\n",
    "\n",
    "def project_theta(theta, m_values):\n",
    "    \"\"\"\n",
    "    Given a specified angle (theta) and a tensor of frequencies (m_values), this function gives\n",
    "    the x and y coordinates (i.e. the x-axis and y-axis projection) at the given theta for all frequencies\n",
    "    listed in m_values. This becomes the coefficients_list.\n",
    "\n",
    "    Project given 2D vectors onto sin(m*theta) and cos(m*theta) for various m values.\n",
    "\n",
    "    Parameters:\n",
    "    theta (torch.tensor): tensor of shape (N,) representing the angle or phase.\n",
    "    m_values (torch tensor): tensor of m values for projection.\n",
    "\n",
    "    Returns:\n",
    "    projections (tensor): Tensor of shape (len(m_values), 2) where the first column is x-coord\n",
    "    and the second column is y-coord.\n",
    "    \"\"\"\n",
    "    projections = []\n",
    "    \n",
    "    for m in m_values:\n",
    "        sin_m_theta = torch.sin(m * theta)\n",
    "        cos_m_theta = torch.cos(m * theta)\n",
    "        \n",
    "        # Form new vectors using the basis functions\n",
    "        projected_vectors = torch.stack((cos_m_theta, sin_m_theta), axis=-1)\n",
    "        \n",
    "        projections.append(projected_vectors)\n",
    "    \n",
    "    return torch.stack(projections, axis=0)\n",
    "\n"
   ]
  },
  {
   "cell_type": "code",
   "execution_count": null,
   "metadata": {},
   "outputs": [],
   "source": [
    "# This function is not used\n",
    "\n",
    "def evaluate_functions_on_image(image_shape, coefficients_list, m_values, center):\n",
    "    \"\"\"\n",
    "    This function creates the mask.\n",
    "    First, it creates a grid of (x,y) points with size image_shape. It then computes\n",
    "    the arctan at each point. Then it calculates the sin and cos (weighted by the values in coefficients_list)\n",
    "    for each theta value and m value.\n",
    "\n",
    "    Evaluate the functions defined by coefficients for sin(m*theta) and cos(m*theta)\n",
    "    on an image of a specific shape, centered at a given coordinate.\n",
    "\n",
    "    Parameters:\n",
    "    image_shape (tuple): Shape of the image (height, width).\n",
    "    coefficients_list (list of tuples): List of coefficients for the sin and cos functions [(a_sin, a_cos), ...].\n",
    "    m_values (list): List of m values (frequencies) for the basis functions.\n",
    "    center (tuple): The center coordinate (x_center, y_center).\n",
    "\n",
    "    Returns:\n",
    "    torch.Tensor: 2D tensor of the evaluated function (the mask).\n",
    "    \"\"\"\n",
    "    height, width = image_shape\n",
    "    x_center, y_center = center\n",
    "\n",
    "    # Create a tuple where y and x are tensors of shape (128,128).\n",
    "    # The y tensor has rows that span from (-64,64).\n",
    "    # The x tensor has columns that span from (-64,64).\n",
    "    # Basically, this just creates a grid of points (for example, the top left value of this grid is (-64,64))...duh\n",
    "    y, x = torch.meshgrid(torch.arange(height) - y_center, torch.arange(width) - x_center, indexing='ij')\n",
    "    \n",
    "    # Compute theta (arctan[y/x]) for each coordinate\n",
    "    theta = torch.atan2(y.float(), x.float())\n",
    "    \n",
    "    # Initialize the evaluated function image\n",
    "    evaluated_function = torch.zeros(image_shape, dtype=torch.float32)\n",
    "    \n",
    "    # Iterates through coefficient_list and m_values simultaneously and computes evaluated_function.\n",
    "    # Since theta is a tensor of size (image_shape), evaluated_function is also that same size.\n",
    "    # the += operator adds the value to the preexisting value and reassigns the variable as this new value.\n",
    "    for (a_cos, a_sin), m in zip(coefficients_list, m_values):\n",
    "        evaluated_function += a_sin * torch.sin(m * theta) + a_cos * torch.cos(m * theta)\n",
    "    \n",
    "    return evaluated_function\n"
   ]
  },
  {
   "cell_type": "code",
   "execution_count": null,
   "metadata": {},
   "outputs": [],
   "source": [
    "def evaluate_functions_on_theta(theta, coefficients_list, m_values):\n",
    "    \"\"\"\n",
    "    For a tensor of theta values, this function computes the sin and cos (weighted by coefficients_list)\n",
    "    at each point.\n",
    "\n",
    "    Evaluate the functions defined by coefficients for sin(m*theta) and cos(m*theta)\n",
    "    on an image of a specific shape, centered at a given coordinate.\n",
    "\n",
    "    Parameters:\n",
    "    theta (tensor): tensor of theta values\n",
    "    coefficients_list (list of tuples): List of coefficients for the sin and cos functions [(a_sin, a_cos), ...].\n",
    "    m_values (list): List of m values for the basis functions.\n",
    "\n",
    "    Returns:\n",
    "    torch.Tensor: 2D tensor of the evaluated function.\n",
    "    \"\"\"\n",
    "\n",
    "    # Initialize the evaluated function image\n",
    "    evaluated_function = torch.zeros(theta.shape, dtype=torch.float32)\n",
    "    \n",
    "    # Sum contributions from each m\n",
    "    for (a_cos, a_sin), m in zip(coefficients_list, m_values):\n",
    "        evaluated_function += a_sin * torch.sin(m * theta) + a_cos * torch.cos(m * theta)\n",
    "    \n",
    "    return evaluated_function"
   ]
  },
  {
   "cell_type": "markdown",
   "metadata": {},
   "source": [
    "## LOAD DATA"
   ]
  },
  {
   "cell_type": "code",
   "execution_count": null,
   "metadata": {},
   "outputs": [],
   "source": [
    "# Load data with shape (3, 128, 128) for q_x, q_y, and intensity\n",
    "\n",
    "# data = np.load('image1.npz')['data']\n",
    "# data = np.load('images/image_111001.npz')['data']\n",
    "data = np.load('images/image_111019.npz')['data']\n",
    "\n",
    "# Split into theta and intensity\n",
    "\n",
    "# computes arctan(q_y/q_x) to get tensor values which are dependent on angle\n",
    "data_theta = torch.atan2(torch.tensor(data[1]), torch.tensor(data[0]))\n",
    "data_intensity = torch.tensor(data[2])\n",
    "print(data.shape)\n",
    "# plt.imshow(data_theta)\n",
    "# plt.colorbar()"
   ]
  },
  {
   "cell_type": "code",
   "execution_count": null,
   "metadata": {},
   "outputs": [],
   "source": [
    "data = np.load(\"cooldown 54.5K -29mT/image_121521.npz\")['data']\n",
    "data_theta = torch.atan2(torch.tensor(data[1]), torch.tensor(data[0]))\n",
    "data_intensity = torch.tensor(data[2])"
   ]
  },
  {
   "cell_type": "code",
   "execution_count": null,
   "metadata": {},
   "outputs": [],
   "source": [
    "# Example of how evaluate_functions_on_theta() works\n",
    "evaluate_image_theta = evaluate_functions_on_theta(data_theta, np.array([[1, 0]]), [6])\n",
    "plt.imshow(evaluate_image_theta.detach(), cmap='plasma')\n",
    "plt.colorbar()\n",
    "print(evaluate_image_theta.shape)"
   ]
  },
  {
   "cell_type": "code",
   "execution_count": null,
   "metadata": {},
   "outputs": [],
   "source": [
    "# Set of m_values -- reduce for broader angles\n",
    "m_vals = torch.arange(12)\n",
    "\n",
    "# six-fold signal\n",
    "angles = torch.arange(0, 6) * 2 * torch.pi / 6.\n",
    "print(angles)\n",
    "# Projection onto circular harmonics (cos(m\\theta), sin(m\\theta))\n",
    "projection = project_theta(angles, m_vals).sum(1)\n",
    "\n",
    "print(projection)\n",
    "\n",
    "evaluate_image_theta = evaluate_functions_on_theta(data_theta, projection, m_vals)\n",
    "print(evaluate_image_theta.shape)\n",
    "plt.imshow(evaluate_image_theta.detach(), cmap='plasma')\n",
    "plt.colorbar()"
   ]
  },
  {
   "cell_type": "markdown",
   "metadata": {},
   "source": [
    "## OPTIMIZE OFFSET ANGLE"
   ]
  },
  {
   "cell_type": "code",
   "execution_count": null,
   "metadata": {},
   "outputs": [],
   "source": [
    "# Performs gradient descent to optimize the offset angle\n",
    "\n",
    "max_iter = 401\n",
    "\n",
    "# initialize offset angle at zero\n",
    "offset = torch.tensor(0.)\n",
    "# tells torch which variable to perform graient descent on\n",
    "offset.requires_grad = True\n",
    "# uses the Adam optimizer\n",
    "opt = torch.optim.Adam([offset], lr=1e-2)\n",
    "\n",
    "for i in range(max_iter):\n",
    "    # project_theta() will find the weighting coefficients for sin and cos functions in the mask\n",
    "    projection = project_theta(angles + offset, m_vals).sum(1)\n",
    "    # evaluate_functions_on_theta() will create the mask with the respective weighting coeffs from projection\n",
    "    evaluate_image_theta = evaluate_functions_on_theta(data_theta, projection, m_vals)\n",
    "    # multiply element-wise the data_intensity and the mask, sum all the values in the tensor\n",
    "    loss = -(data_intensity * evaluate_image_theta).sum()\n",
    "    # performs the gradient descent as it tries to minimize loss by changing the offset angle\n",
    "    opt.zero_grad()\n",
    "    loss.backward()\n",
    "    opt.step()\n",
    "    if i % 100 == 0:\n",
    "        print(f\"loss: {loss.item()}, offset angle: {offset.item() * 180/torch.pi}°\")\n"
   ]
  },
  {
   "cell_type": "code",
   "execution_count": null,
   "metadata": {},
   "outputs": [],
   "source": [
    "# Plotting the image rotated by the offset angle alongside the original intensity\n",
    "fig, ax = plt.subplots(nrows=1, ncols=2, figsize=(10, 5))\n",
    "print(f\"offset angle: {offset.item() * 180/torch.pi}°\")\n",
    "ax[0].imshow(evaluate_image_theta.detach(), cmap='plasma')\n",
    "ax[1].imshow(data_intensity.detach(), cmap='plasma')"
   ]
  },
  {
   "cell_type": "code",
   "execution_count": null,
   "metadata": {},
   "outputs": [],
   "source": [
    "plt.imshow((evaluate_image_theta / evaluate_image_theta.abs().max() + data_intensity / data_intensity.abs().max()).detach(), cmap='plasma')\n",
    "plt.colorbar()"
   ]
  }
 ],
 "metadata": {
  "kernelspec": {
   "display_name": "skyrmion",
   "language": "python",
   "name": "python3"
  },
  "language_info": {
   "codemirror_mode": {
    "name": "ipython",
    "version": 3
   },
   "file_extension": ".py",
   "mimetype": "text/x-python",
   "name": "python",
   "nbconvert_exporter": "python",
   "pygments_lexer": "ipython3",
   "version": "3.12.3"
  }
 },
 "nbformat": 4,
 "nbformat_minor": 2
}
