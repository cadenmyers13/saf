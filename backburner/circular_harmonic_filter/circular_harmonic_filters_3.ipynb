{
 "cells": [
  {
   "cell_type": "code",
   "execution_count": null,
   "id": "0",
   "metadata": {},
   "outputs": [],
   "source": [
    "import numpy as np\n",
    "from PIL import Image, ImageSequence\n",
    "import matplotlib.pyplot as plt\n",
    "import torch"
   ]
  },
  {
   "cell_type": "code",
   "execution_count": null,
   "id": "1",
   "metadata": {},
   "outputs": [],
   "source": [
    "def project_theta(theta, m_values):\n",
    "    projections = []\n",
    "    for m in m_values:\n",
    "        sin_m_theta = torch.sin(m * theta)\n",
    "        cos_m_theta = torch.cos(m * theta)\n",
    "        projected_vectors = torch.stack((cos_m_theta, sin_m_theta), axis=-1)\n",
    "        projections.append(projected_vectors)\n",
    "    return torch.stack(projections, axis=0)\n",
    "\n",
    "def evaluate_functions_on_theta(theta, coefficients_list, m_values):\n",
    "    evaluated_function = torch.zeros(theta.shape, dtype=torch.float32)\n",
    "    for (a_cos, a_sin), m in zip(coefficients_list, m_values):\n",
    "        evaluated_function += a_sin * torch.sin(m * theta) + a_cos * torch.cos(m * theta)\n",
    "    return evaluated_function"
   ]
  },
  {
   "cell_type": "code",
   "execution_count": null,
   "id": "2",
   "metadata": {},
   "outputs": [],
   "source": [
    "from scipy.ndimage import gaussian_filter\n",
    "def mask_and_blur_images(array):\n",
    "    '''masks signal inside radius of 14 and outside radius of 30 and adds gaussian blur for all intensity data'''\n",
    "    for i in range(0,60):\n",
    "        x,y = np.meshgrid(np.arange(128), np.arange(128))\n",
    "        radius = np.sqrt((x-64)**2 + (y-62)**2)\n",
    "        mask1 = radius <= 14\n",
    "        mask2 = radius >= 30\n",
    "        masked_data = array[i].copy()\n",
    "        masked_data[mask1] = 0\n",
    "        masked_data2 = masked_data.copy()\n",
    "        masked_data2[mask2] = 0\n",
    "        # masked_data_norm = (masked_data - np.min(masked_data) / (np.max(masked_data) - np.min(masked_data)))\n",
    "        blurred_data = gaussian_filter(masked_data2, sigma=.65)\n",
    "        array[i] = blurred_data\n",
    "    return array"
   ]
  },
  {
   "cell_type": "markdown",
   "id": "3",
   "metadata": {},
   "source": [
    "### Note, I think the columns and rows are showing x vs y respectively (opposite how we normally plot)\n",
    "#### We can double check this later"
   ]
  },
  {
   "cell_type": "markdown",
   "id": "4",
   "metadata": {},
   "source": [
    "## Load data and optimize offset"
   ]
  },
  {
   "cell_type": "code",
   "execution_count": null,
   "id": "5",
   "metadata": {},
   "outputs": [],
   "source": [
    "# Define parameters\n",
    "ms = torch.arange(12)\n",
    "angles = torch.arange(0, 6) * 2 * torch.pi / 6.\n",
    "\n",
    "# Extract data_theta\n",
    "data = np.load('/Users/cadenmyers/billingelab/dev/skyrmion_lattices/images/image_111019.npz')['data']\n",
    "data_theta = torch.atan2(torch.tensor(data[1]), torch.tensor(data[0]))\n",
    "\n",
    "# Extract data file paths\n",
    "file_path = '/Users/cadenmyers/billingelab/dev/skyrmion_lattices/tests/'\n",
    "files = ['118923.npz', '119486.npz', '119996.npz', '120506.npz', '121016.npz', '121405.npz', '121855.npz', '122365.npz', '122875.npz']\n",
    "\n",
    "# Extract Training data (can ignore)\n",
    "# Extract data intensity and phi (unmasked)\n",
    "# training_data = np.load('/Users/yucongchen/billingegroup/skyrmion-lattices-data/training_data.npz')\n",
    "# data_intensity = torch.tensor(training_data['intensity'])\n",
    "# data_intensity = torch.tensor(mask_and_blur_images(training_data['intensity']))\n",
    "# Preprocess phi to get angle difference\n",
    "# phi = training_data['phi'] - 253.1473\n",
    "# print(\"phi:\", phi)"
   ]
  },
  {
   "cell_type": "code",
   "execution_count": null,
   "id": "6",
   "metadata": {},
   "outputs": [],
   "source": [
    "# Made offset a required argument\n",
    "def optimize_offset(intensity, offset):\n",
    "    max_iter = 101    \n",
    "    opt = torch.optim.Adam([offset], lr=1e-2)\n",
    "    for i in range(max_iter):\n",
    "        projection = project_theta(angles + offset, ms).sum(1)\n",
    "        evaluate_image_theta = evaluate_functions_on_theta(data_theta, projection, ms)\n",
    "        loss = -(intensity * evaluate_image_theta).sum()\n",
    "        opt.zero_grad()\n",
    "        loss.backward()\n",
    "        opt.step()\n",
    "        #if i % 100 == 0:\n",
    "        #    print(loss.item(), offset.item())\n",
    "    return offset, evaluate_image_theta"
   ]
  },
  {
   "cell_type": "code",
   "execution_count": null,
   "id": "7",
   "metadata": {},
   "outputs": [],
   "source": [
    "# Training/Testing\n",
    "for file in files:\n",
    "    # Read in data intensity\n",
    "    data = np.load(file_path + file)\n",
    "    data_intensity = torch.tensor(mask_and_blur_images(data['intensity']))\n",
    "    data_numor = data['numor']\n",
    "    print(data_numor)\n",
    "    \n",
    "    # Iterate to find offset\n",
    "    offset_list, evaluate_image_theta_list = [], []\n",
    "    offset = torch.tensor(0.)\n",
    "    offset.requires_grad = True\n",
    "    for intensity in data_intensity:\n",
    "        offset, evaluate_image_theta = optimize_offset(intensity, offset)\n",
    "        offset_list.append(offset.item()), evaluate_image_theta_list.append(evaluate_image_theta)\n",
    "    print(\"offset in radius:\", offset_list)\n",
    "\n",
    "    # Plot\n",
    "    fig, ax = plt.subplots(nrows=6, ncols=10, figsize=(30, 18))\n",
    "    for i in range(6):\n",
    "        for j in range(10):\n",
    "            ax[i, j].imshow((evaluate_image_theta_list[i*6 + j] / evaluate_image_theta_list[i*6 + j].abs().max() + data_intensity[i*6 + j] / data_intensity[i*6 + j].abs().max()).detach(), cmap='plasma')\n",
    "    fig.suptitle(file)\n",
    "    plt.show()\n",
    "\n",
    "    # Results\n",
    "    offset_diff_degrees = []\n",
    "    for offset in offset_list:\n",
    "        # We're plotting y vs x instead of x vs y hence we need to use 90-offset instead of offset\n",
    "        new_offset = -offset/torch.pi*180\n",
    "        offset_diff_degrees.append(new_offset)\n",
    "    print(\"offset (preprocessed) in degrees:\", offset_diff_degrees)\n",
    "    \n",
    "    # Save offset and evaluate image theta\n",
    "    np.savez('offset_' + file, numor=data['numor'], offset=offset_list)\n",
    "\n"
   ]
  },
  {
   "cell_type": "code",
   "execution_count": null,
   "id": "8",
   "metadata": {},
   "outputs": [],
   "source": [
    "# offset\n",
    "for file in files:\n",
    "    # Read in data intensity\n",
    "    data = np.load(file_path + 'offset_' + file)\n",
    "    data_numor = data['numor']\n",
    "    data_offset = data['offset']\n",
    "    \n",
    "    # Preprocess offset\n",
    "    # Results\n",
    "    offset0 = -data_offset[0]/torch.pi*180\n",
    "    offset_diff_degrees = []\n",
    "    for offset in data_offset:\n",
    "        # We're plotting y vs x instead of x vs y hence we need to use 90-offset instead of offset\n",
    "        new_offset = -offset/torch.pi*180 - offset0\n",
    "        offset_diff_degrees.append(new_offset)\n",
    "    print(\"Angles in degrees (starting numor =\", data_numor[0], \"):\", offset_diff_degrees)\n",
    "    time = np.arange(len(offset_diff_degrees)) * 10\n",
    "    # np.savez(f\"{file.removesuffix(\".npz\")}_offset.npz\", time=time, offset_angle=offset_diff_degrees)\n",
    "\n",
    "    # Plot angles\n",
    "    plt.plot(time, offset_diff_degrees)\n",
    "    plt.ylabel(\"Offset Angle\")\n",
    "    plt.xlabel(\"Time (s)\")\n",
    "    plt.grid(True)\n",
    "    plt.title(data['numor'][0])\n",
    "    plt.tick_params(direction='in')\n",
    "    # plt.ylim(-30,30)\n",
    "    plt.show()\n"
   ]
  },
  {
   "cell_type": "code",
   "execution_count": null,
   "id": "9",
   "metadata": {},
   "outputs": [],
   "source": []
  }
 ],
 "metadata": {
  "kernelspec": {
   "display_name": "Python 3 (ipykernel)",
   "language": "python",
   "name": "python3"
  },
  "language_info": {
   "codemirror_mode": {
    "name": "ipython",
    "version": 3
   },
   "file_extension": ".py",
   "mimetype": "text/x-python",
   "name": "python",
   "nbconvert_exporter": "python",
   "pygments_lexer": "ipython3",
   "version": "3.12.3"
  }
 },
 "nbformat": 4,
 "nbformat_minor": 5
}
