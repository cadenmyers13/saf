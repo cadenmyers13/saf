{
 "cells": [
  {
   "cell_type": "code",
   "execution_count": null,
   "id": "0",
   "metadata": {},
   "outputs": [],
   "source": [
    "import numpy as np\n",
    "from PIL import Image, ImageSequence\n",
    "import matplotlib.pyplot as plt\n",
    "import torch"
   ]
  },
  {
   "cell_type": "code",
   "execution_count": null,
   "id": "1",
   "metadata": {},
   "outputs": [],
   "source": [
    "def project_theta(theta, m_values):\n",
    "    projections = []\n",
    "    for m in m_values:\n",
    "        sin_m_theta = torch.sin(m * theta)\n",
    "        cos_m_theta = torch.cos(m * theta)\n",
    "        projected_vectors = torch.stack((cos_m_theta, sin_m_theta), axis=-1)\n",
    "        projections.append(projected_vectors)\n",
    "    return torch.stack(projections, axis=0)\n",
    "\n",
    "def evaluate_functions_on_theta(theta, coefficients_list, m_values):\n",
    "    evaluated_function = torch.zeros(theta.shape, dtype=torch.float32)    \n",
    "    for (a_cos, a_sin), m in zip(coefficients_list, m_values):\n",
    "        evaluated_function += a_sin * torch.sin(m * theta) + a_cos * torch.cos(m * theta)\n",
    "    return evaluated_function"
   ]
  },
  {
   "cell_type": "markdown",
   "id": "2",
   "metadata": {},
   "source": [
    "### Note, I think the columns and rows are showing x vs y respectively (opposite how we normally plot)\n",
    "#### We can double check this later"
   ]
  },
  {
   "cell_type": "markdown",
   "id": "3",
   "metadata": {},
   "source": [
    "## Load data and optimize offset"
   ]
  },
  {
   "cell_type": "code",
   "execution_count": null,
   "id": "4",
   "metadata": {},
   "outputs": [],
   "source": [
    "# Define parameters\n",
    "ms = torch.arange(12)\n",
    "angles = torch.arange(0, 6) * 2 * torch.pi / 6.\n",
    "\n",
    "# Extract data_theta\n",
    "data = np.load('/Users/cadenmyers/billingelab/dev/skyrmion_lattices/images/image_111020.npz')['data']\n",
    "data_theta = torch.atan2(torch.tensor(data[1]), torch.tensor(data[0]))\n",
    "\n",
    "# Extract data intensity and phi (unmasked)\n",
    "movie = '121855.npz'\n",
    "movie_images = np.load(f'/Users/cadenmyers/billingelab/dev/skyrmion_lattices/tests/{movie}')\n",
    "movie_intensity = torch.tensor(movie_images['intensity'])\n",
    "movie_intensity.shape\n",
    "\n",
    "# Preprocess phi to get angle difference\n",
    "# phi = training_data['phi'] - 253.1473\n",
    "# print(\"phi:\", phi)"
   ]
  },
  {
   "cell_type": "code",
   "execution_count": null,
   "id": "5",
   "metadata": {},
   "outputs": [],
   "source": [
    "# Made offset a required argument\n",
    "def optimize_offset(intensity, offset):\n",
    "    max_iter = 101\n",
    "    opt = torch.optim.Adam([offset], lr=1e-2)\n",
    "    for i in range(max_iter):\n",
    "        projection = project_theta(angles + offset, ms).sum(1)\n",
    "        evaluate_image_theta = evaluate_functions_on_theta(data_theta, projection, ms)\n",
    "        loss = -(intensity * evaluate_image_theta).sum()\n",
    "        opt.zero_grad()\n",
    "        loss.backward()\n",
    "        opt.step()\n",
    "        #if i % 100 == 0:\n",
    "        #    print(loss.item(), offset.item())\n",
    "    return offset, evaluate_image_theta\n",
    "\n",
    "offset =  torch.tensor(0.)\n",
    "offset_list = []\n",
    "offset.requires_grad = True\n",
    "for i in range(movie_intensity.shape[0]):\n",
    "    offset_ang, intensity = optimize_offset(movie_intensity[i], offset)\n",
    "    print(f'{i}: offset angle=', offset_ang.item())\n",
    "    offset_list.append(offset_ang.item())\n",
    "    plt.plot(offset_list)"
   ]
  },
  {
   "cell_type": "code",
   "execution_count": null,
   "id": "6",
   "metadata": {},
   "outputs": [],
   "source": [
    "optimize_offset(movie_intensity[0], torch.tensor(0.))"
   ]
  },
  {
   "cell_type": "code",
   "execution_count": null,
   "id": "7",
   "metadata": {},
   "outputs": [],
   "source": [
    "# Training\n",
    "offset_list, evaluate_image_theta_list = [], []\n",
    "offset = torch.tensor(0.)\n",
    "offset.requires_grad = True\n",
    "for intensity in movie_intensity:\n",
    "    offset, evaluate_image_theta = optimize_offset(intensity, offset)\n",
    "    offset_list.append(offset.item()), evaluate_image_theta_list.append(evaluate_image_theta)\n",
    "print(\"offset in radius:\", offset_list)"
   ]
  },
  {
   "cell_type": "code",
   "execution_count": null,
   "id": "8",
   "metadata": {},
   "outputs": [],
   "source": [
    "# Note: we can probably decrease max_iter above.. I used 1501 because I wanted to see if it can improve accuracy\n",
    "# Results\n",
    "offset_diff_degrees = []\n",
    "for offset in offset_list:\n",
    "    # We're plotting y vs x instead of x vs y hence we need to use 90-offset instead of offset to compare with phi\n",
    "    # -90+15.46960665870267 makes the first offset 0\n",
    "    new_offset = 90 - offset/torch.pi*180 - 90 + 15.46960665870267\n",
    "    offset_diff_degrees.append(new_offset)\n",
    "print(\"offset (preprocessed) in degrees:\", offset_diff_degrees)\n",
    "# print(\"\\nAbsolute errors:\", np.abs(phi - offset_diff_degrees))"
   ]
  },
  {
   "cell_type": "code",
   "execution_count": null,
   "id": "9",
   "metadata": {},
   "outputs": [],
   "source": [
    "# The weird case (need a mask to train again)\n",
    "the_offset = torch.tensor(-1.2826639413833618)\n",
    "the_offset.requires_grad = True\n",
    "the_offset, the_evaluate_image_theta = optimize_offset(movie_intensity[51], the_offset)\n",
    "print(-the_offset.item()/torch.pi*180 + 15.46960665870267)\n",
    "plt.imshow((the_evaluate_image_theta / the_evaluate_image_theta.abs().max() + movie_intensity[51] / movie_intensity[51].abs().max()).detach(), cmap='plasma')\n",
    "\n"
   ]
  },
  {
   "cell_type": "code",
   "execution_count": null,
   "id": "10",
   "metadata": {},
   "outputs": [],
   "source": [
    "fig, ax = plt.subplots(nrows=6, ncols=10, figsize=(30, 18))\n",
    "for i in range(6):\n",
    "    for j in range(10):\n",
    "        ax[i, j].imshow((evaluate_image_theta_list[i*6 + j] / evaluate_image_theta_list[i*6 + j].abs().max() + movie_intensity[i*6 + j] / movie_intensity[i*6 + j].abs().max()).detach(), cmap='plasma')\n",
    "\n"
   ]
  },
  {
   "cell_type": "code",
   "execution_count": null,
   "id": "11",
   "metadata": {},
   "outputs": [],
   "source": []
  }
 ],
 "metadata": {
  "kernelspec": {
   "display_name": "Python 3 (ipykernel)",
   "language": "python",
   "name": "python3"
  },
  "language_info": {
   "codemirror_mode": {
    "name": "ipython",
    "version": 3
   },
   "file_extension": ".py",
   "mimetype": "text/x-python",
   "name": "python",
   "nbconvert_exporter": "python",
   "pygments_lexer": "ipython3",
   "version": "3.12.3"
  }
 },
 "nbformat": 4,
 "nbformat_minor": 5
}
