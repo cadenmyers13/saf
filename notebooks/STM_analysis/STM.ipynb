{
 "cells": [
  {
   "cell_type": "code",
   "execution_count": null,
   "metadata": {},
   "outputs": [],
   "source": [
    "import numpy as np\n",
    "import matplotlib.pyplot as plt\n",
    "from saf.filters import n_fold_filter, gaussian_filter, annulus_filter\n",
    "from saf.ratchet_model import regress_offset_cw\n",
    "from saf.stm_helpers import regress_annulus\n",
    "from skimage.feature import peak_local_max\n",
    "from scipy.signal import find_peaks\n",
    "from pathlib import Path"
   ]
  },
  {
   "cell_type": "code",
   "execution_count": null,
   "metadata": {},
   "outputs": [],
   "source": [
    "def thresholding(image_array, threshold):\n",
    "    \"\"\"\n",
    "    thresholding function to remove impurities\n",
    "    \"\"\"\n",
    "    # Normalize the image array\n",
    "    image_array = (image_array - image_array.min()) / (image_array.max() - image_array.min())\n",
    "    # Apply the threshold\n",
    "    image_array[image_array > threshold] = 0\n",
    "    # Normalize again after thresholding\n",
    "    image_array = (image_array - image_array.min()) / (image_array.max() - image_array.min())\n",
    "    return image_array\n"
   ]
  },
  {
   "cell_type": "code",
   "execution_count": null,
   "metadata": {},
   "outputs": [],
   "source": [
    "data_dir = '/Users/cadenmyers/billingelab/dev/sym_adapted_filts/data/STM_data/'\n",
    "\n",
    "# Load the data\n",
    "path1 = data_dir + \"20241123_Lu166_0023.txt\"\n",
    "path2 = data_dir + \"20241206_Lu166_0041.txt\"\n",
    "path3 = data_dir + \"20241206_Lu166_0043.txt\"\n",
    "\n",
    "array1 = np.loadtxt(path1)\n",
    "array2 = np.loadtxt(path2)\n",
    "array3 = np.loadtxt(path3)\n",
    "\n",
    "# Plot all arrays\n",
    "fig, axes = plt.subplots(1, 3, figsize=(15*2, 5*2))\n",
    "\n",
    "axes[0].imshow(array1, cmap='viridis')\n",
    "axes[0].set_title(\"Array 1\")\n",
    "axes[0].axis('off')\n",
    "\n",
    "axes[1].imshow(array2, cmap='viridis')\n",
    "axes[1].set_title(\"Array 2\")\n",
    "axes[1].axis('off')\n",
    "\n",
    "axes[2].imshow(array3, cmap='viridis')\n",
    "axes[2].set_title(\"Array 3\")\n",
    "axes[2].axis('off')\n",
    "\n",
    "plt.tight_layout()\n",
    "plt.show()\n",
    "\n",
    "image_array = array3\n",
    "\n",
    "image_array = thresholding(image_array,.27)\n",
    "print(image_array.shape)\n",
    "plt.imshow(image_array)\n",
    "plt.colorbar()\n",
    "\n",
    "\n",
    "\n"
   ]
  },
  {
   "cell_type": "markdown",
   "metadata": {},
   "source": [
    "## Find coordinates of clusters\n",
    "Using `peak_local_max` from `skimage.feature`"
   ]
  },
  {
   "cell_type": "code",
   "execution_count": null,
   "metadata": {},
   "outputs": [],
   "source": [
    "threshold=.2\n",
    "coordinates = peak_local_max(image_array, min_distance=5, threshold_abs=threshold)\n",
    "print(len(coordinates))\n"
   ]
  },
  {
   "cell_type": "markdown",
   "metadata": {},
   "source": [
    "## Plot gaussians at each coord.\n",
    "Use this to view how the peak location worked"
   ]
  },
  {
   "cell_type": "code",
   "execution_count": null,
   "metadata": {},
   "outputs": [],
   "source": [
    "# Compile all gaussians into one array\n",
    "filt = np.zeros_like(image_array)\n",
    "\n",
    "for i in range(len(coordinates)):\n",
    "    y, x = coordinates[i]\n",
    "    filt += gaussian_filter(2, imshape=image_array.shape, cx=x, cy=y)\n",
    "\n",
    "# filt = gaussian_filter(2, imshape=array3.shape, cx=coordinates[0][0], cy=coordinates[0][1])\n",
    "fig, ax = plt.subplots(1, 2, figsize=(10, 10))\n",
    "print(image_array.shape)\n",
    "ax[0].imshow(filt)\n",
    "ax[0].set_title(\"Peak-finding algorithm\")\n",
    "ax[1].imshow(image_array)\n",
    "ax[1].set_title(\"raw image\")\n",
    "plt.show()\n"
   ]
  },
  {
   "cell_type": "markdown",
   "metadata": {},
   "source": [
    "## Mask with annulus"
   ]
  },
  {
   "cell_type": "code",
   "execution_count": null,
   "metadata": {},
   "outputs": [],
   "source": [
    "# Now we can use the annulus filter to regress the annulus\n",
    "\n",
    "# Select a point from the coordinates to regress the annulus\n",
    "cx, cy = coordinates[50]\n",
    "r, filtered_im = regress_annulus(r_min=3, r_max=20, array=image_array, cx=cx, cy=cy, sd=2, r_step=1)\n",
    "nfilter = n_fold_filter(k=8, offset=0, n_folds=6, imshape=image_array.shape, cx=cx, cy=cy)\n",
    "\n",
    "# Verify that the regression is working correctly\n",
    "plt.imshow(filtered_im)\n",
    "\n",
    "# Calculate the offset value, not displayed below but just run to see if it works\n",
    "offset1, _ = regress_offset_cw(image_array, n_folds=6, k=8, tolerance_forward=30, tolerance_reverse=30, cx=cx, cy=cy)"
   ]
  },
  {
   "cell_type": "markdown",
   "metadata": {},
   "source": [
    "## Put it all together\n",
    "Now, we can run everything together.\n",
    "1) Use `peak_local_max` to find the peaks in the original STM image. Gives you `coordinates` where each peak is located.\n",
    "2) At each peak location, regress with an annulus. This will find the first outer ring of atoms from the above points. The filtered image that it returns masks everything out except the first \"ring\" of atoms. If no ring is detected (due to impurities, grain boundaries, etc) it will set the filtered ring distance to `r_min`. This step generates a list of images where `len(coordinates)==len(filtered_ims_cx_cy)`\n",
    "3) Lastly, find the orientation of each angle using our ratchet model. This returns a list of offsets values where `len(coordinates)==len(offsets)`\n",
    "4) This can then be plotted however you like, recommendation is a quiver plot"
   ]
  },
  {
   "cell_type": "code",
   "execution_count": null,
   "metadata": {},
   "outputs": [],
   "source": [
    "# 1. find center points\n",
    "coordinates = peak_local_max(image_array, min_distance=3)\n",
    "print(\"number of coordinates found:\", len(coordinates))\n",
    "\n",
    "# 2. find radius of each point using annulus filter regression\n",
    "filtered_ims_cx_cy = []\n",
    "radii = []\n",
    "max_radius_calculated = 0\n",
    "r_min = 3\n",
    "r_max = 20\n",
    "for i, coord in enumerate(coordinates):\n",
    "    cy, cx = coord\n",
    "    r, filtered_im = regress_annulus(r_min=r_min, r_max=r_max, array=image_array, cx=cx, cy=cy, sd=2, r_step=1)\n",
    "    filtered_ims_cx_cy.append((filtered_im, cx, cy))\n",
    "    radii.append(r)\n",
    "    if r > max_radius_calculated:\n",
    "        max_radius_calculated = r\n",
    "        print('max radius calculated=', max_radius_calculated, f' at {i}')\n",
    "\n",
    "# 3. regress offset using ratchet model\n",
    "print(\"Starting offset regression...\")\n",
    "n_folds = 6\n",
    "k = 8\n",
    "tol_forward = 30\n",
    "tol_reverse = 30\n",
    "offsets = []\n",
    "for tup in filtered_ims_cx_cy:\n",
    "    filtered_im, cx, cy = tup\n",
    "    offset, _ = regress_offset_cw(dps=filtered_im, n_folds=n_folds, k=k, tolerance_forward=tol_forward, tolerance_reverse=tol_reverse, cx=cx, cy=cy)\n",
    "    offsets.append(offset[0])\n",
    "\n",
    "# 4. create heatmap of orientation angles"
   ]
  },
  {
   "cell_type": "code",
   "execution_count": null,
   "metadata": {},
   "outputs": [],
   "source": [
    "stm_data = np.load('/Users/cadenmyers/billingelab/dev/sym_adapted_filts/data/STM_data/STMorientation_field.npz')\n",
    "offset = stm_data['offsets']\n",
    "coordinates = stm_data['coordinates']\n",
    "print(offsets.shape)\n",
    "\n",
    "# offsets returns a lists of lists, there is probably a but somewhere. This fixes that.\n",
    "offset_values = [val[0] for val in offsets]"
   ]
  },
  {
   "cell_type": "markdown",
   "metadata": {},
   "source": [
    "## Plotting quiver plot"
   ]
  },
  {
   "cell_type": "code",
   "execution_count": null,
   "metadata": {},
   "outputs": [],
   "source": [
    "offsets_rad = np.deg2rad(offset_values)  # convert degrees to radians\n",
    "\n",
    "# Extract x and y positions\n",
    "x = coordinates[:, 0]\n",
    "y = coordinates[:, 1]\n",
    "\n",
    "# Compute arrow components\n",
    "u = np.cos(offsets_rad)  # x-direction\n",
    "v = np.sin(offsets_rad)  # y-direction\n",
    "\n",
    "# Normalize angle to 0–1 range for colormap\n",
    "colors = (np.array(offsets) % 360) / 360  # stays in [0, 1]\n",
    "\n",
    "fig, ax = plt.subplots(1, 2, figsize=(12, 6))  # wider figure to fit 2 plots\n",
    "\n",
    "# Plot on the first axes\n",
    "ax[0].imshow(np.zeros((512, 512)), cmap='gray')\n",
    "quiv = ax[0].quiver(\n",
    "    y, x, u, v, colors, cmap='hsv',      # flip x and y for correct orientation\n",
    "    angles='xy', scale_units='xy', scale=0.07, width=0.004,\n",
    "    headwidth=2, headaxislength=4, headlength=3\n",
    ")\n",
    "\n",
    "ax[0].set_xlim(0, 512)\n",
    "ax[0].set_ylim(0, 512)\n",
    "ax[0].invert_yaxis()\n",
    "# ax[0].set_title(\"Orientation Field with Direction-Colored Arrows\")\n",
    "\n",
    "ax[1].imshow(image_array)\n",
    "\n",
    "plt.savefig('/Users/cadenmyers/billingelab/dev/sym_adapted_filts/data/STM_data/orientation_field.png', dpi=300, bbox_inches='tight')"
   ]
  }
 ],
 "metadata": {
  "kernelspec": {
   "display_name": "skyrmion",
   "language": "python",
   "name": "python3"
  },
  "language_info": {
   "codemirror_mode": {
    "name": "ipython",
    "version": 3
   },
   "file_extension": ".py",
   "mimetype": "text/x-python",
   "name": "python",
   "nbconvert_exporter": "python",
   "pygments_lexer": "ipython3",
   "version": "3.12.8"
  }
 },
 "nbformat": 4,
 "nbformat_minor": 2
}
