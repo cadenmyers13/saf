{
 "cells": [
  {
   "cell_type": "code",
   "execution_count": null,
   "metadata": {},
   "outputs": [],
   "source": [
    "from filter_functions import filter_function, find_k_value, circular_filter_function, normalize_min_max, mask_images, azimuthal_sum_w_filter, data_theta\n",
    "import numpy as np\n",
    "import matplotlib.pyplot as plt"
   ]
  },
  {
   "cell_type": "code",
   "execution_count": null,
   "metadata": {},
   "outputs": [],
   "source": [
    "numor = 69958\n",
    "path_to_npz = f'/Users/cadenmyers/billingelab/dev/sym_adapted_filts/experimental_data/npz_sept_numor_data/{numor}.npz'\n",
    "data = np.load(path_to_npz)['data']# Generate filter\n",
    "intensity_image = data[26]\n",
    "# plt.imshow(intensity_image)\n",
    "stemdps = np.load('/Users/cadenmyers/billingelab/dev/sym_adapted_filts/4DSTEM/data_and_figs/subset_dps_masked.npz')['data']\n",
    "# stemdp = np.load('/Users/cadenmyers/billingelab/dev/sym_adapted_filts/4DSTEM/data_and_figs/good4DSTEMdp.npz')['data']\n",
    "plt.imshow(stemdps[1])\n",
    "plt.show()"
   ]
  },
  {
   "cell_type": "code",
   "execution_count": null,
   "metadata": {},
   "outputs": [],
   "source": [
    "def find_symmetries(dp, experimental_resolution, threshold=1000, n_folds=1):\n",
    "    \"\"\"\n",
    "    Calculates the rotational symmetries of a diffraction pattern (dp) by performing an azimuthal sum\n",
    "    and Fourier transform. The function identifies the symmetry order of the diffraction pattern \n",
    "    based on the azimuthal overlap scores and their frequency spectra. Filters out diffraction patterns\n",
    "    based on `threshold`.\n",
    "\n",
    "    returns frequencies, and fft magnitude\n",
    "    \"\"\"\n",
    "    imshape = dp.shape\n",
    "    k = find_k_value(experimental_resolution, n_folds)\n",
    "    phis, score, score_norm = azimuthal_sum_w_filter(dp, k=k, n_folds=n_folds)\n",
    "    if np.max(score) < threshold: # filter out images without intensity peak(s)\n",
    "        print(f'no intensity peak(s) detected with threshold={threshold}')\n",
    "        return\n",
    "    else:\n",
    "        O_fft = np.fft.fft(score_norm)\n",
    "        frequencies = np.fft.fftfreq(len(score_norm), d=1)  # Frequency in cycles per 360 degrees\n",
    "        # Take the magnitude of the FFT and keep only positive frequencies\n",
    "        O_fft_magnitude = np.abs(O_fft)[:len(score_norm)//2]\n",
    "        frequencies = frequencies[:len(score_norm)//2] * len(score_norm)  # Normalize to symmetry order\n",
    "        # Drop frequency==0, 1 (DC component)\n",
    "        O_fft_magnitude = O_fft_magnitude[1:]\n",
    "        frequencies = frequencies[1:]\n",
    "        O_fft_magnitude_norm = (O_fft_magnitude - np.min(O_fft_magnitude)) / (np.max(O_fft_magnitude) - np.min(O_fft_magnitude))\n",
    "        return frequencies, O_fft_magnitude\n",
    "# print(phis)\n",
    "\n"
   ]
  },
  {
   "cell_type": "code",
   "execution_count": null,
   "metadata": {},
   "outputs": [],
   "source": [
    "k = find_k_value(3, n_folds=1)\n",
    "i=0\n",
    "dp = stemdps[i]\n",
    "\n",
    "fig, ax = plt.subplots(1, 2, figsize=(10,5))\n",
    "for dp in stemdps:\n",
    "    result = find_symmetries(dp, 3)\n",
    "    if result is not None:  # Only proceed if the function returned values\n",
    "        freq, fft_mag = result\n",
    "        ax[0].plot(freq, fft_mag)\n",
    "        ax[0].set_xlabel('n_fold symmetry')\n",
    "        ax[0].set_xlim(0, 12)\n",
    "        ax[0].set_xticks(np.arange(0,12,1))\n",
    "        ax[0].grid(True)\n",
    "\n",
    "        ax[1].imshow(dp)\n",
    "        plt.show()\n"
   ]
  },
  {
   "cell_type": "markdown",
   "metadata": {},
   "source": [
    "## Test on 4DSTEM data"
   ]
  },
  {
   "cell_type": "code",
   "execution_count": null,
   "metadata": {},
   "outputs": [],
   "source": [
    "from py4DSTEM.io import read\n",
    "\n",
    "datacube = read('/Users/cadenmyers/billingelab/dev/sym_adapted_filts/4DSTEM/data_and_figs/0020 - original-centralized-masked.h5')\n"
   ]
  },
  {
   "cell_type": "code",
   "execution_count": null,
   "metadata": {},
   "outputs": [],
   "source": [
    "from scipy.signal import find_peaks\n",
    "\n",
    "dps = datacube.data\n",
    "y = 50\n",
    "x = 0\n",
    "dp = dps[y][x]\n",
    "\n",
    "# plt.imshow(dp)\n",
    "xs = []\n",
    "syms = []\n",
    "for x in range(25, 35):\n",
    "    dp = dps[y][x]\n",
    "    freq, mag = find_symmetries(dp, 3)\n",
    "    limited_freq = freq[:30]\n",
    "    limited_mag = mag[:30]\n",
    "    # plt.plot(limited_freq, limited_mag)\n",
    "    plt.plot(freq, mag)\n",
    "    plt.grid(True)\n",
    "    plt.xlim(100,150)\n",
    "    plt.show()\n",
    "    peaks, _ = find_peaks(limited_mag, height=0.4)\n",
    "    folds = limited_freq[peaks]\n",
    "    xs.append(x)\n",
    "    if len(folds) == 0:\n",
    "        syms.append(np.nan)\n",
    "    else:\n",
    "        syms.append(folds[0])\n"
   ]
  },
  {
   "cell_type": "code",
   "execution_count": null,
   "metadata": {},
   "outputs": [],
   "source": [
    "plt.scatter(xs, syms)\n",
    "# plt.xticks(np.arange(0, len(xs), 1))\n",
    "# plt.yticks(np.arange(0, max(syms)+1, 1))\n",
    "plt.xlabel('x coord of 4DSTEM')\n",
    "plt.ylabel('detected symmetry, $n_{folds}$')\n",
    "plt.grid(True)\n",
    "plt.show()"
   ]
  },
  {
   "cell_type": "code",
   "execution_count": null,
   "metadata": {},
   "outputs": [],
   "source": [
    "plt.imshow(dps[50][30])"
   ]
  }
 ],
 "metadata": {
  "kernelspec": {
   "display_name": "skyrmion",
   "language": "python",
   "name": "python3"
  },
  "language_info": {
   "codemirror_mode": {
    "name": "ipython",
    "version": 3
   },
   "file_extension": ".py",
   "mimetype": "text/x-python",
   "name": "python",
   "nbconvert_exporter": "python",
   "pygments_lexer": "ipython3",
   "version": "3.12.8"
  }
 },
 "nbformat": 4,
 "nbformat_minor": 2
}
