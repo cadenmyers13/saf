{
 "cells": [
  {
   "cell_type": "code",
   "execution_count": 3,
   "metadata": {},
   "outputs": [],
   "source": [
    "import h5py\n",
    "import numpy as np\n",
    "import matplotlib.pyplot as plt\n",
    "\n",
    "def open_hdf5(file_path):\n",
    "    \"\"\" Open an HDF5 file and return the file object. \"\"\"\n",
    "    return h5py.File(file_path, 'r')\n",
    "\n",
    "# hdf5_path = r\"/Users/cadenmyers/billingelab/dev/sym_adapted_filts/data/SkL_data/Instrument_Appended_September_extracted_data.h5\"\n",
    "# hdf5_file = open_hdf5(hdf5_path)"
   ]
  },
  {
   "cell_type": "code",
   "execution_count": 4,
   "metadata": {},
   "outputs": [],
   "source": [
    "def get_data_for_ml(hdf5_file, numor_ids):\n",
    "    \"\"\" Extract data and metadata for ML/AI applications for one or multiple numors. \"\"\"\n",
    "    all_data = {}\n",
    "    \n",
    "    # Ensure numor_ids is a list for single and multiple numor handling\n",
    "    if not isinstance(numor_ids, list):\n",
    "        numor_ids = [numor_ids]\n",
    "    \n",
    "    for numor_id in numor_ids:\n",
    "        group = hdf5_file[f'Numor{numor_id}']\n",
    "        data = {\n",
    "            'q_x': group['q_x (inverse angstrom)'][:],\n",
    "            'q_y': group['q_y (inverse angstrom)'][:],\n",
    "            'intensity': group['intensity (counts per standard monitor)'][:],\n",
    "            'intensity_err': group['intensity_err (counts per standard monitor)'][:]\n",
    "        }\n",
    "        \n",
    "        # Retrieve and include metadata in the dictionary\n",
    "        metadata = {attr: group.attrs[attr] for attr in group.attrs}\n",
    "        data.update(metadata)\n",
    "        \n",
    "        # Store data for this numor keyed by its ID\n",
    "        all_data[numor_id] = data\n",
    "    \n",
    "    return all_data\n",
    "\n"
   ]
  },
  {
   "cell_type": "code",
   "execution_count": 5,
   "metadata": {},
   "outputs": [],
   "source": [
    "from scipy.ndimage import gaussian_filter\n",
    "\n",
    "def mask_and_blur_images(array):\n",
    "    '''masks signal inside radius of 14 and outside radius of 30 and adds gaussian blur for all intensity data'''\n",
    "    x,y = np.meshgrid(np.arange(128), np.arange(128))\n",
    "    radius = np.sqrt((x-64)**2 + (y-62)**2)\n",
    "    mask1 = radius <= 14\n",
    "    mask2 = radius >= 30\n",
    "    masked_data = array.copy()\n",
    "    masked_data[mask1] = 0\n",
    "    masked_data2 = masked_data.copy()\n",
    "    masked_data2[mask2] = 0\n",
    "    # masked_data_norm = (masked_data - np.min(masked_data) / (np.max(masked_data) - np.min(masked_data)))\n",
    "    # blurred_data = gaussian_filter(masked_data2, sigma=.65)\n",
    "    array = masked_data2\n",
    "    return array\n",
    "\n"
   ]
  },
  {
   "cell_type": "code",
   "execution_count": 7,
   "metadata": {},
   "outputs": [
    {
     "name": "stdout",
     "output_type": "stream",
     "text": [
      "300\n",
      "neg35mT_553_50mW\n"
     ]
    }
   ],
   "source": [
    "import os\n",
    "import numpy as np\n",
    "\n",
    "\n",
    "start_numor = 56358\n",
    "end_numor = start_numor + 299\n",
    "numors = list(np.arange(start_numor, end_numor))\n",
    "\n",
    "def save_stack_of_images(file_name, directory_name='/Users/cadenmyers/billingelab/dev/sym_adapted_filts/data/SkL_data/masked_npz_data/'):\n",
    "    '''This function saves the stack of images (128,128,len(numors)) as <file_name> under <directory_name>'''\n",
    "    all_data = []\n",
    "\n",
    "    if os.path.exists(file_name):\n",
    "        print(f\"File '{file_name}' already exists. Skipping save.\")\n",
    "        return\n",
    "\n",
    "    for numor in numors:\n",
    "        numor_data = get_data_for_ml(hdf5_file, numor)\n",
    "        numor_dict = numor_data[numor]\n",
    "\n",
    "        data = mask_and_blur_images(numor_dict.get('intensity'))\n",
    "        all_data.append(data)  # Append each image data to the list\n",
    "\n",
    "    # Stack all images along a new axis to create an array of shape (X, 128, 128)\n",
    "    all_data_array = np.stack(all_data, axis=0)\n",
    "    print(\"Data shape:\", all_data_array.shape)\n",
    "\n",
    "    # Save all images into a single .npz file\n",
    "    np.savez(directory_name+file_name, data=all_data_array)\n",
    "\n",
    "    return\n",
    "\n",
    "direction = 'neg'\n",
    "B = '35'\n",
    "B_field = B + 'mT_'\n",
    "power = '50mW'\n",
    "Temp = '553_'\n",
    "\n",
    "print(end_numor+1 - start_numor)\n",
    "print(direction + B_field + Temp + power)\n",
    "# save_stack_of_images(str(start_numor))"
   ]
  },
  {
   "cell_type": "code",
   "execution_count": 8,
   "metadata": {},
   "outputs": [
    {
     "name": "stdout",
     "output_type": "stream",
     "text": [
      "Loaded NPZ file shape: (299, 128, 128)\n",
      "Loaded unmasked NPZ file shape: (299, 128, 128)\n"
     ]
    },
    {
     "data": {
      "image/png": "[encoded data removed]",
      "text/plain": [
       "<Figure size 1000x500 with 2 Axes>"
      ]
     },
     "metadata": {},
     "output_type": "display_data"
    }
   ],
   "source": [
    "# test the loaded file\n",
    "masked_npz_file = np.load(f'/Users/cadenmyers/billingelab/dev/sym_adapted_filts/data/SkL_data/masked_npz_data/{start_numor}.npz')['data']\n",
    "raw_npz_file = np.load(f'/Users/cadenmyers/billingelab/dev/sym_adapted_filts/data/SkL_data/npz_sept_numor_data/{start_numor}.npz')['data']\n",
    "print(\"Loaded NPZ file shape:\", masked_npz_file.shape)\n",
    "print(\"Loaded unmasked NPZ file shape:\", raw_npz_file.shape)\n",
    "fig, axes = plt.subplots(1, 2, figsize=(10, 5))\n",
    "axes[0].imshow(masked_npz_file[0])\n",
    "axes[0].set_title('masked NPZ File')\n",
    "axes[1].imshow(mask_and_blur_images(raw_npz_file[0]))\n",
    "axes[1].set_title('raw NPZ File')\n",
    "plt.tight_layout()\n"
   ]
  },
  {
   "cell_type": "code",
   "execution_count": null,
   "metadata": {},
   "outputs": [],
   "source": [
    "import os\n",
    "\n",
    "def save_individual_images(directory_name):\n",
    "    '''This function saves each image in `numors` as `image_<numor>.npz` to the specified input directory name'''\n",
    "    directory = directory_name\n",
    "\n",
    "    if os.path.exists(directory_name):\n",
    "        print(f\"Directory '{directory_name}' already exists. Skipping save.\")\n",
    "        return\n",
    "\n",
    "    for numor in numors:\n",
    "        numor_data = get_data_for_ml(hdf5_file, numor)\n",
    "        numor_dict = numor_data[numor]\n",
    "\n",
    "        qx = numor_dict.get('q_x')\n",
    "        qy = numor_dict.get('q_y')\n",
    "        int = mask_and_blur_images(numor_dict.get('intensity'))\n",
    "        data = np.stack([qx, qy, int], axis=0)\n",
    "\n",
    "        if not os.path.exists(directory):\n",
    "            os.makedirs(directory)\n",
    "\n",
    "        np.savez(os.path.join(directory, f'image_{numor}.npz'), data=data)\n",
    "    return\n",
    "\n"
   ]
  }
 ],
 "metadata": {
  "kernelspec": {
   "display_name": "skyrmion",
   "language": "python",
   "name": "python3"
  },
  "language_info": {
   "codemirror_mode": {
    "name": "ipython",
    "version": 3
   },
   "file_extension": ".py",
   "mimetype": "text/x-python",
   "name": "python",
   "nbconvert_exporter": "python",
   "pygments_lexer": "ipython3",
   "version": "3.12.8"
  }
 },
 "nbformat": 4,
 "nbformat_minor": 2
}
