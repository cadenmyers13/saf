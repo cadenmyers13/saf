{
 "cells": [
  {
   "cell_type": "code",
   "execution_count": null,
   "metadata": {},
   "outputs": [],
   "source": [
    "import numpy as np\n",
    "import matplotlib.pyplot as plt\n",
    "from py4DSTEM.io import read\n",
    "import py4DSTEM\n",
    "import tifffile as tf\n",
    "# import torch\n"
   ]
  },
  {
   "cell_type": "code",
   "execution_count": null,
   "metadata": {},
   "outputs": [],
   "source": [
    "offset_heatmap = np.load('/Users/cadenmyers/billingelab/dev/skyrmion_lattices/yevgeny_proj/data/offsetheatmap_4fold.npz')['data']\n",
    "datacube = read('/Users/cadenmyers/billingelab/dev/skyrmion_lattices/yevgeny_proj/data/0020 - original-centralized-masked.h5')\n",
    "\n"
   ]
  },
  {
   "cell_type": "code",
   "execution_count": null,
   "metadata": {},
   "outputs": [],
   "source": [
    "def normalize_min_max(data):\n",
    "    if isinstance(data, torch.Tensor):\n",
    "        array = data.detach().numpy()\n",
    "    else:\n",
    "        array = data\n",
    "    array_min = np.min(array)\n",
    "    array_max = np.max(array)\n",
    "    norm_array = (array - array_min) / (array_max - array_min)\n",
    "    if isinstance(data, torch.Tensor):\n",
    "        norm_tensor = torch.tensor(norm_array)\n",
    "        return norm_tensor\n",
    "    else:\n",
    "        return norm_array"
   ]
  },
  {
   "cell_type": "code",
   "execution_count": null,
   "metadata": {},
   "outputs": [],
   "source": [
    "threshold_angle = 30\n",
    "coords = np.where(offset_heatmap >= threshold_angle) # coords where offset value is greater than threshold\n",
    "x_coord, y_coord = coords\n",
    "\n",
    "# Get DP and x, y from datacube\n",
    "dplist = []\n",
    "for i in range(x_coord.shape[0]):\n",
    "    rx = x_coord[i]\n",
    "    ry = y_coord[i]\n",
    "    # print(rx, ry)\n",
    "    dp = datacube.data[rx][ry]\n",
    "    dp_and_coord = {'dp': dp, 'xcoord': rx, 'ycoord': ry}\n",
    "    dplist.append(dp_and_coord)\n",
    "\n",
    "# Sum all the DPs\n",
    "sum_dp = np.zeros(dplist[0]['dp'].shape) # empty array of same shape as dp's\n",
    "for dict in dplist:\n",
    "    dp = dict['dp']\n",
    "    dp_norm = normalize_min_max(dp)\n",
    "    sum_dp += dp_norm\n",
    "\n",
    "plt.imshow(sum_dp)\n",
    "plt.title(f'Total DPs summed: {len(dplist)}, angle > {threshold_angle}')\n",
    "plt.colorbar()"
   ]
  },
  {
   "cell_type": "code",
   "execution_count": null,
   "metadata": {},
   "outputs": [],
   "source": [
    "threshold_angle = 30\n",
    "x_coord = np.where((offset_heatmap <= threshold_angle) & (offset_heatmap >= -threshold_angle))[0] # X-coord where offset value is greater than threshold\n",
    "y_coord = np.where((offset_heatmap <= threshold_angle) & (offset_heatmap >= -threshold_angle))[1] # Y-coord where offset value is greater than threshold\n",
    "\n",
    "# Get DP and x, y from datacube\n",
    "dplist = []\n",
    "for i in range(x_coord.shape[0]):\n",
    "    rx = x_coord[i]\n",
    "    ry = y_coord[i]\n",
    "    # print(rx, ry)\n",
    "    dp = datacube.data[rx][ry]\n",
    "    dp_and_coord = {'dp': dp, 'xcoord': rx, 'ycoord': ry}\n",
    "    dplist.append(dp_and_coord)\n",
    "\n",
    "# Sum all the DPs\n",
    "sum_dp = np.zeros(dplist[0]['dp'].shape) # empty array of same shape as dp's\n",
    "for dict in dplist:\n",
    "    dp = dict['dp']\n",
    "    dp_norm = normalize_min_max(dp)\n",
    "    sum_dp += dp_norm\n",
    "\n",
    "plt.imshow(sum_dp)\n",
    "plt.title(f'Total DPs summed: {len(dplist)}, angle < {threshold_angle}')\n",
    "plt.colorbar()"
   ]
  },
  {
   "cell_type": "code",
   "execution_count": null,
   "metadata": {},
   "outputs": [],
   "source": [
    "# CREATE DATACUBE OF DPs GREATER THAN 30\n",
    "\n",
    "threshold_angle = 30\n",
    "\n",
    "# Get coordinates of interest\n",
    "coords = np.where(offset_heatmap >= threshold_angle)\n",
    "x_coord, y_coord = coords\n",
    "\n",
    "original_shape = datacube.data.shape  # (142, 217, 256, 256)\n",
    "\n",
    "# Initialize new datacube array with zeros\n",
    "new_data = np.zeros_like(datacube.data)\n",
    "\n",
    "# Populate new datacube with DPs from the original datacube\n",
    "for rx, ry in zip(x_coord, y_coord):\n",
    "    new_data[rx, ry] = datacube.data[rx, ry].copy()\n",
    "\n",
    "# Wrap in a py4DSTEM DataCube\n",
    "dc_pos30 = py4DSTEM.DataCube(new_data)\n",
    "\n",
    "# Perform operations on the new DataCube\n",
    "mean_dp_pos30 = dc_pos30.get_dp_mean()  # Mean diffraction pattern\n",
    "max_dp_pos30 = dc_pos30.get_dp_max() \n"
   ]
  },
  {
   "cell_type": "code",
   "execution_count": null,
   "metadata": {},
   "outputs": [],
   "source": [
    "mean_dp_array = mean_dp.data\n",
    "max_dp_array = max_dp.data\n",
    "\n",
    "# plt.imshow(max_dp_array)\n",
    "plt.imshow(mean_dp_array)\n",
    "plt.colorbar()"
   ]
  },
  {
   "cell_type": "code",
   "execution_count": null,
   "metadata": {},
   "outputs": [],
   "source": [
    "# CREATE DATACUBE OF DPs GREATER THAN 30\n",
    "\n",
    "threshold_angle = -30\n",
    "\n",
    "# Get coordinates of interest\n",
    "coords = np.where(offset_heatmap <= threshold_angle)\n",
    "x_coord, y_coord = coords\n",
    "\n",
    "original_shape = datacube.data.shape  # (142, 217, 256, 256)\n",
    "\n",
    "# Initialize new datacube array with zeros\n",
    "new_data = np.zeros_like(datacube.data)\n",
    "\n",
    "# Populate new datacube with DPs from the original datacube\n",
    "for rx, ry in zip(x_coord, y_coord):\n",
    "    new_data[rx, ry] = datacube.data[rx, ry].copy()\n",
    "\n",
    "# Wrap in a py4DSTEM DataCube\n",
    "dc_neg30 = py4DSTEM.DataCube(new_data)\n",
    "\n",
    "# Perform operations on the new DataCube\n",
    "mean_dp_neg30 = dc_neg30.get_dp_mean()\n",
    "max_dp_neg30 = dc_neg30.get_dp_max() \n"
   ]
  },
  {
   "cell_type": "code",
   "execution_count": null,
   "metadata": {},
   "outputs": [],
   "source": [
    "mean_dp_array = mean_dp_neg30.data\n",
    "max_dp_array = max_dp_neg30.data\n",
    "\n",
    "plt.imshow(mean_dp_array)\n",
    "plt.colorbar()"
   ]
  },
  {
   "cell_type": "code",
   "execution_count": null,
   "metadata": {},
   "outputs": [],
   "source": [
    "# ALL DPs BETWEEN -30 AND 30 DEGREES\n",
    "\n",
    "threshold_angle = 30\n",
    "\n",
    "# Get coordinates of interest\n",
    "coords = np.where((offset_heatmap < threshold_angle) & (offset_heatmap > -threshold_angle))\n",
    "x_coord, y_coord = coords\n",
    "\n",
    "original_shape = datacube.data.shape  # (142, 217, 256, 256)\n",
    "\n",
    "# Initialize new datacube array with zeros\n",
    "new_data = np.zeros_like(datacube.data)\n",
    "\n",
    "# Populate new datacube with DPs from the original datacube\n",
    "for rx, ry in zip(x_coord, y_coord):\n",
    "    dp = datacube.data[rx, ry]\n",
    "    if dp.sum() > 0: # remove empty arrays\n",
    "        new_data[rx, ry] = datacube.data[rx, ry].copy()\n",
    "\n",
    "# Wrap in a py4DSTEM DataCube\n",
    "dc_else = py4DSTEM.DataCube(new_data)\n",
    "\n",
    "# Perform operations on the new DataCube\n",
    "mean_dp_else = dc_else.get_dp_mean()\n",
    "max_dp_else = dc_else.get_dp_max() "
   ]
  },
  {
   "cell_type": "code",
   "execution_count": null,
   "metadata": {},
   "outputs": [],
   "source": [
    "print(dc_else.data.shape)\n",
    "\n",
    "mean_dp_else_array = mean_dp_else.data\n",
    "max_dp_array = max_dp_else.data\n",
    "# plt.imshow(mean_dp_else_array)\n",
    "# plt.imshow(max_dp_array)\n",
    "\n",
    "# plt.imshow(dc_else.data[10][10])\n",
    "plt.colorbar()\n"
   ]
  }
 ],
 "metadata": {
  "kernelspec": {
   "display_name": "skyrmion",
   "language": "python",
   "name": "python3"
  },
  "language_info": {
   "codemirror_mode": {
    "name": "ipython",
    "version": 3
   },
   "file_extension": ".py",
   "mimetype": "text/x-python",
   "name": "python",
   "nbconvert_exporter": "python",
   "pygments_lexer": "ipython3",
   "version": "3.12.8"
  }
 },
 "nbformat": 4,
 "nbformat_minor": 2
}
