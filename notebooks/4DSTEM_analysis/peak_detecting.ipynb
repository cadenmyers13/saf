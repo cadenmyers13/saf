{
 "cells": [
  {
   "cell_type": "code",
   "execution_count": null,
   "metadata": {},
   "outputs": [],
   "source": [
    "import numpy as np\n",
    "import matplotlib.pyplot as plt\n",
    "import torch\n",
    "from ipywidgets import interact, IntSlider\n",
    "import py4DSTEM\n",
    "\n",
    "path = '/Users/cadenmyers/billingelab/dev/skyrmion_lattices/yevgeny_proj/data/0020 - original-centralized-masked.h5'\n",
    "offsets = np.load('/Users/cadenmyers/billingelab/dev/skyrmion_lattices/yevgeny_proj/data/offsetheatmap_4fold.npz')['data']\n",
    "dc = py4DSTEM.read(path)"
   ]
  },
  {
   "cell_type": "code",
   "execution_count": null,
   "metadata": {},
   "outputs": [],
   "source": [
    "# FILTER FUNCTION\n",
    "\n",
    "im_shape = dc.data[0][0].shape\n",
    "print(im_shape)\n",
    "x,y = np.meshgrid(np.arange(-im_shape[0] // 2 ,im_shape[0] // 2), np.arange(-im_shape[1] // 2 ,im_shape[1] // 2))\n",
    "DATA_THETA = torch.atan2(torch.tensor(x), torch.tensor(y))\n",
    "offset1 = torch.tensor(0., requires_grad=True)\n",
    "\n",
    "# for the model\n",
    "MAX_ITER_OFFSET = 31\n",
    "LR = 1e-2\n",
    "OFFSET_ADJUSTMENT = 60\n",
    "\n",
    "n_folds = 4\n",
    "k=8\n",
    "print(\"n_folds =\", n_folds)\n",
    "print('k value =', k)\n",
    "def filter_function(k, theta, n_folds=n_folds):\n",
    "    filter = torch.exp(k * torch.log((torch.cos(n_folds / 2 * theta))**2))\n",
    "    return filter\n",
    "\n",
    "# plt.imshow(filter_function(k, DATA_THETA))\n",
    "\n",
    "def normalize_min_max(data):\n",
    "    if isinstance(data, torch.Tensor):\n",
    "        array = data.detach().numpy()\n",
    "    else:\n",
    "        array = data\n",
    "    array_min = np.min(array)\n",
    "    array_max = np.max(array)\n",
    "    norm_array = (array - array_min) / (array_max - array_min)\n",
    "    if isinstance(data, torch.Tensor):\n",
    "        norm_tensor = torch.tensor(norm_array)\n",
    "        return norm_tensor\n",
    "    else:\n",
    "        return norm_array\n",
    "\n",
    "\n"
   ]
  },
  {
   "cell_type": "code",
   "execution_count": null,
   "metadata": {},
   "outputs": [],
   "source": [
    "# fig, axs = plt.subplots(1, 2, figsize=(10,5))\n",
    "for rx in range(83,84): # 217\n",
    "    for ry in range(41,62): # 142\n",
    "        dp = dc.data[ry, rx]\n",
    "        rad_offset = np.deg2rad(offsets[rx][ry])\n",
    "        axs[0].imshow(filter_function(k, DATA_THETA+rad_offset) + normalize_min_max(dp))\n",
    "        axs[1].imshow(dp)\n",
    "        axs[1].set_title(f'rx,ry = {rx}, {ry}')\n",
    "\n",
    "        # plt.show()"
   ]
  },
  {
   "cell_type": "code",
   "execution_count": null,
   "metadata": {},
   "outputs": [],
   "source": [
    "\n",
    "def overlap_vs_phi_plot(rx, ry):\n",
    "    '''plot overlap score vs. phi over angle range near offset'''\n",
    "\n",
    "    dp = dc.data[ry, rx]\n",
    "    deg_offset = offsets[rx][ry]\n",
    "    rad_offset = np.deg2rad(deg_offset)\n",
    "\n",
    "    range_deg = np.arange(deg_offset-45, deg_offset+45, .5)\n",
    "    overlap_list = []\n",
    "    for i in range(0, range_deg.shape[0]): # calculate overlap over range of values\n",
    "        filter = filter_function(k, DATA_THETA + np.deg2rad(range_deg[i]))\n",
    "        overlap = (filter*dp).sum()\n",
    "        overlap_list.append(overlap.item())\n",
    "\n",
    "    filt = filter_function(k, DATA_THETA+rad_offset).numpy()\n",
    "    fig, axs = plt.subplots(1, 2, figsize=(12, 6))\n",
    "\n",
    "    axs[0].plot(range_deg, overlap_list) # plot overlap score vs. angle\n",
    "    axs[0].set_title(f'y-range = {round(max(overlap_list) - min(overlap_list))}')\n",
    "\n",
    "    im = axs[1].imshow(normalize_min_max(dp) + filt)\n",
    "    axs[1].imshow(normalize_min_max(dp) + filt)\n",
    "    axs[1].set_title(f'{round(deg_offset, 3)}')\n",
    "    fig.colorbar(im, ax=axs[1])\n",
    "\n",
    "\n",
    "    plt.tight_layout()\n",
    "    plt.show()\n",
    "\n",
    "interact(\n",
    "    overlap_vs_phi_plot,\n",
    "    rx=IntSlider(value=0, min=0, max=217, step=1, description='Rx'),\n",
    "    ry=IntSlider(value=0, min=0, max=142, step=1, description='Ry')\n",
    ");"
   ]
  }
 ],
 "metadata": {
  "kernelspec": {
   "display_name": "skyrmion",
   "language": "python",
   "name": "python3"
  },
  "language_info": {
   "codemirror_mode": {
    "name": "ipython",
    "version": 3
   },
   "file_extension": ".py",
   "mimetype": "text/x-python",
   "name": "python",
   "nbconvert_exporter": "python",
   "pygments_lexer": "ipython3",
   "version": "3.12.3"
  }
 },
 "nbformat": 4,
 "nbformat_minor": 2
}
